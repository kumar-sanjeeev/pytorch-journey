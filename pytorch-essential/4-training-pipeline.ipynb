{
 "cells": [
  {
   "cell_type": "markdown",
   "id": "85153f40",
   "metadata": {},
   "source": [
    "## Mainly three steps\n",
    "    1. Design model(input, output size, forward pass)\n",
    "    2. construct loss and optimizer\n",
    "    3. Training Loop:\n",
    "        - forward pass:compute predication\n",
    "        - backward pass: gradients\n",
    "        - update weights (stop grad tracking)\n",
    "        "
   ]
  },
  {
   "cell_type": "code",
   "execution_count": 1,
   "id": "e06b4b1e",
   "metadata": {},
   "outputs": [],
   "source": [
    "import torch \n",
    "import torch.nn as nn"
   ]
  },
  {
   "cell_type": "code",
   "execution_count": 2,
   "id": "52fba79e",
   "metadata": {},
   "outputs": [],
   "source": [
    "#training dummy data\n",
    "x = torch.tensor([[1],[2],[3],[4]], dtype=torch.float32)\n",
    "y = torch.tensor([[2],[4],[6],[8]], dtype= torch.float32)\n",
    "\n",
    "x_test = torch.tensor([5],dtype=torch.float32)"
   ]
  },
  {
   "cell_type": "code",
   "execution_count": 6,
   "id": "578191e3",
   "metadata": {},
   "outputs": [
    {
     "name": "stdout",
     "output_type": "stream",
     "text": [
      "Predication before training: f(5)= -1.067\n"
     ]
    }
   ],
   "source": [
    "#define model for forward pass\n",
    "n_samples, n_features = x.shape\n",
    "model = nn.Linear(in_features=n_features, out_features=n_features)\n",
    "\n",
    "print(f'Predication before training: f(5)= {model(x_test).item():.3f}')"
   ]
  },
  {
   "cell_type": "code",
   "execution_count": 9,
   "id": "dcd778e9",
   "metadata": {},
   "outputs": [],
   "source": [
    "#### defining the custom model using class ###\n",
    "class LinearRegression(nn.Module):\n",
    "    \n",
    "    #define init function\n",
    "    def __init__(self, input_dim, output_dim):\n",
    "        super(LinearRegression,self).__init__()\n",
    "        \n",
    "        #define layers\n",
    "        self.linear1 = nn.Linear(input_dim, output_dim)\n",
    "    \n",
    "    #define forward \n",
    "    def forward(self,x):\n",
    "        return self.linear1(x)\n",
    "\n",
    "    \n",
    "model = LinearRegression(n_features, n_features)"
   ]
  },
  {
   "cell_type": "code",
   "execution_count": 10,
   "id": "df66e883",
   "metadata": {},
   "outputs": [
    {
     "name": "stdout",
     "output_type": "stream",
     "text": [
      "epoch 1: w=0.633, loss=26.00014114\n",
      "epoch 11: w=1.800, loss=0.67346132\n",
      "epoch 21: w=1.987, loss=0.01815442\n",
      "epoch 31: w=2.016, loss=0.00115762\n",
      "epoch 41: w=2.020, loss=0.00067783\n",
      "epoch 51: w=2.021, loss=0.00062770\n",
      "epoch 61: w=2.020, loss=0.00059089\n",
      "epoch 71: w=2.020, loss=0.00055650\n",
      "epoch 81: w=2.019, loss=0.00052410\n",
      "epoch 91: w=2.018, loss=0.00049359\n",
      "Predication after training: f(5)= 10.037\n"
     ]
    }
   ],
   "source": [
    "#training\n",
    "l_rate = 0.01\n",
    "iters = 100\n",
    "\n",
    "loss = nn.MSELoss()   #output is callable function\n",
    "optimizer = torch.optim.SGD(model.parameters(), lr=l_rate)\n",
    "\n",
    "for epoch in range(iters):\n",
    "    #predication: forward pass\n",
    "    y_pred = model(x)\n",
    "    \n",
    "    #loss\n",
    "    l = loss(y_pred,y)\n",
    "    \n",
    "    #compute gradients: backward pass\n",
    "    l.backward()\n",
    "    \n",
    "    #update weights using optimizer by taking step\n",
    "    optimizer.step()\n",
    "    \n",
    "    #zero the gradients value\n",
    "    optimizer.zero_grad()\n",
    "    \n",
    "    if epoch % 10 == 0:\n",
    "        #unpack the weight and bias terms from model.parameters\n",
    "        w,b = model.parameters()\n",
    "        print(f'epoch {epoch+1}: w={w[0][0].item():.3f}, loss={l:.8f}')\n",
    "print(f'Predication after training: f(5)= {model(x_test).item():.3f}')"
   ]
  }
 ],
 "metadata": {
  "kernelspec": {
   "display_name": "Python 3 (ipykernel)",
   "language": "python",
   "name": "python3"
  },
  "language_info": {
   "codemirror_mode": {
    "name": "ipython",
    "version": 3
   },
   "file_extension": ".py",
   "mimetype": "text/x-python",
   "name": "python",
   "nbconvert_exporter": "python",
   "pygments_lexer": "ipython3",
   "version": "3.8.10"
  }
 },
 "nbformat": 4,
 "nbformat_minor": 5
}
