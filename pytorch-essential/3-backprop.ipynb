{
 "cells": [
  {
   "cell_type": "code",
   "execution_count": 1,
   "id": "18e493f8",
   "metadata": {},
   "outputs": [],
   "source": [
    "import torch\n",
    "import numpy as np"
   ]
  },
  {
   "cell_type": "markdown",
   "id": "d2bd4351",
   "metadata": {},
   "source": [
    "1. Apply the forward pass and compute loss (prediction - true)\n",
    "2. Compute local gradients (i.e gradients at each node)\n",
    "3. Apply backward pass: \n",
    "     * compute d(loss)/d(weights) using chain rule"
   ]
  },
  {
   "cell_type": "code",
   "execution_count": 6,
   "id": "5ae16dbb",
   "metadata": {},
   "outputs": [
    {
     "name": "stdout",
     "output_type": "stream",
     "text": [
      "tensor(1., grad_fn=<PowBackward0>)\n",
      "tensor(-2.)\n"
     ]
    }
   ],
   "source": [
    "x = torch.tensor(1.0)\n",
    "y = torch.tensor(2.0)\n",
    "w = torch.tensor(1.0, requires_grad=True)\n",
    "\n",
    "#apply the forward pass and compute the loss term\n",
    "y_pred = w*x\n",
    "loss = (y_pred-y)**2\n",
    "print(loss)\n",
    "\n",
    "#apply the backward pass, at backend pytorch compute the local gradient and backward pass automatically\n",
    "loss.backward() # compute the gradients and store in .grad() \n",
    "print(w.grad)\n",
    "\n",
    "#update the weight value\n",
    "#for next iteration again apply the forward and backward pass and then update weight values"
   ]
  }
 ],
 "metadata": {
  "kernelspec": {
   "display_name": "Python 3 (ipykernel)",
   "language": "python",
   "name": "python3"
  },
  "language_info": {
   "codemirror_mode": {
    "name": "ipython",
    "version": 3
   },
   "file_extension": ".py",
   "mimetype": "text/x-python",
   "name": "python",
   "nbconvert_exporter": "python",
   "pygments_lexer": "ipython3",
   "version": "3.8.10"
  }
 },
 "nbformat": 4,
 "nbformat_minor": 5
}
