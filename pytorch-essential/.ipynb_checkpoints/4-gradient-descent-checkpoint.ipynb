{
 "cells": [
  {
   "cell_type": "markdown",
   "id": "4a325e92",
   "metadata": {},
   "source": [
    "## Gradient Descent using Numpy only"
   ]
  },
  {
   "cell_type": "code",
   "execution_count": null,
   "id": "c6e26ce9",
   "metadata": {},
   "outputs": [],
   "source": [
    "import numpy as np"
   ]
  },
  {
   "cell_type": "code",
   "execution_count": null,
   "id": "7bc69f40",
   "metadata": {},
   "outputs": [],
   "source": [
    "#training samples\n",
    "x = np.array([1, 2, 3, 4], dtype=np.float32)\n",
    "y = np.array([2, 4, 6, 8], dtype=np.float32)\n",
    "\n",
    "#weights\n",
    "w = 0.0\n",
    "\n",
    "#calculate model predication\n",
    "def forward(x):\n",
    "    return w*x\n",
    "\n",
    "#calculate the loss: MSE\n",
    "def loss(y, y_pred):\n",
    "    return ((y_pred-y)**2).mean()\n",
    "\n",
    "#gadient\n",
    "# MSE = 1/N * (wx-y)**2\n",
    "# dJ/dw = 1/N * 2(wx-y)* x\n",
    "\n",
    "def gradient(x,y,y_pred):\n",
    "    return np.dot(2*x, (y_pred-y)).mean()\n",
    "\n",
    "print(f'predication before training: f(5) ={forward(5)}')"
   ]
  },
  {
   "cell_type": "code",
   "execution_count": null,
   "id": "3473806b",
   "metadata": {},
   "outputs": [],
   "source": [
    "#training loop\n",
    "l_rate = 0.01\n",
    "iters = 10\n",
    "\n",
    "for epoch in range(iters):\n",
    "    #compute predication, using forward pass\n",
    "    y_pred = forward(x)\n",
    "    \n",
    "    #compute loss\n",
    "    l = loss(y_pred, y)\n",
    "    \n",
    "    #compute grad\n",
    "    dw = gradient(x,y,y_pred)\n",
    "    \n",
    "    #update weights\n",
    "    w = w - l_rate*dw\n",
    "    \n",
    "    if epoch% 1 == 0:\n",
    "        print(f'epoch {epoch+1}: w={w:.3f},loss ={l:.8f}')\n",
    "\n",
    "print(f'predication after training: f(5) = {forward(5):.3f}')\n"
   ]
  },
  {
   "cell_type": "markdown",
   "id": "80033c89",
   "metadata": {},
   "source": [
    "## Gradient Descent using torch"
   ]
  },
  {
   "cell_type": "code",
   "execution_count": null,
   "id": "9b7c1c7e",
   "metadata": {},
   "outputs": [],
   "source": [
    "import torch\n",
    "\n",
    "#training data\n",
    "x = torch.tensor([1, 2, 3, 4], dtype=torch.float32)\n",
    "y = torch.tensor([2, 4, 6, 8], dtype=torch.float32)\n",
    "\n",
    "#parameters\n",
    "w = torch.zeros(1, requires_grad=True)\n",
    "print(w)"
   ]
  },
  {
   "cell_type": "code",
   "execution_count": null,
   "id": "58b6a1f2",
   "metadata": {},
   "outputs": [],
   "source": [
    "#forward pass function\n",
    "def forward(x):\n",
    "    return w*x\n",
    "\n",
    "#define the loss function:MSE\n",
    "def loss(y, y_pred):\n",
    "    return ((y_pred-y)**2).mean()\n",
    "\n",
    "#gradient = backwardpass()"
   ]
  },
  {
   "cell_type": "code",
   "execution_count": null,
   "id": "476a35a5",
   "metadata": {},
   "outputs": [],
   "source": [
    "l_rate = 0.01\n",
    "iters = 10\n",
    "\n",
    "for epoch in range(iters):\n",
    "    #compute predication, using forward pass\n",
    "    y_pred = forward(x)\n",
    "    print(y_pred)\n",
    "    \n",
    "    #compute loss\n",
    "    l = loss(y_pred, y)\n",
    "    print(l)\n",
    "    \n",
    "    #compute grad\n",
    "    l.backward()\n",
    "    \n",
    "    #update weights\n",
    "    with torch.no_grad():\n",
    "        w -= l_rate*w.grad\n",
    "    \n",
    "    #zero out the gradient values\n",
    "    w.grad.zero_()\n",
    "    \n",
    "    if epoch% 2 == 0:\n",
    "        print(f'epoch {epoch+1}: w={w:.3f},loss ={l:.8f}')\n",
    "\n",
    "        \n",
    "print(f'predication after training: f(5) = {forward(5):.3f}')"
   ]
  },
  {
   "cell_type": "code",
   "execution_count": null,
   "id": "f7884141",
   "metadata": {},
   "outputs": [],
   "source": []
  }
 ],
 "metadata": {
  "kernelspec": {
   "display_name": "Python 3 (ipykernel)",
   "language": "python",
   "name": "python3"
  },
  "language_info": {
   "codemirror_mode": {
    "name": "ipython",
    "version": 3
   },
   "file_extension": ".py",
   "mimetype": "text/x-python",
   "name": "python",
   "nbconvert_exporter": "python",
   "pygments_lexer": "ipython3",
   "version": "3.8.10"
  }
 },
 "nbformat": 4,
 "nbformat_minor": 5
}
