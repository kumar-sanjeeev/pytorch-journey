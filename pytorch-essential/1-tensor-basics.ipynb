{
 "cells": [
  {
   "cell_type": "markdown",
   "id": "49fa070b",
   "metadata": {},
   "source": [
    "## Tensor Basics\n"
   ]
  },
  {
   "cell_type": "code",
   "execution_count": 1,
   "id": "1fb737a1",
   "metadata": {},
   "outputs": [],
   "source": [
    "import torch"
   ]
  },
  {
   "cell_type": "code",
   "execution_count": 2,
   "id": "22fac5bb",
   "metadata": {},
   "outputs": [
    {
     "name": "stdout",
     "output_type": "stream",
     "text": [
      "tensor([-1.6248e-14,  3.0893e-41, -3.1552e-15])\n"
     ]
    }
   ],
   "source": [
    "#create an empty tensor-> returns a tensor filled with uninitialized data\\\n",
    "x = torch.empty(3)\n",
    "print(x)"
   ]
  },
  {
   "cell_type": "code",
   "execution_count": 3,
   "id": "a5eb9b98",
   "metadata": {},
   "outputs": [
    {
     "name": "stdout",
     "output_type": "stream",
     "text": [
      "tensor([[0.1312, 0.5625],\n",
      "        [0.5209, 0.7235]])\n"
     ]
    }
   ],
   "source": [
    "#create tensor with random values\n",
    "y = torch.rand(2,2)\n",
    "print(y)"
   ]
  },
  {
   "cell_type": "code",
   "execution_count": 4,
   "id": "3d95889e",
   "metadata": {},
   "outputs": [
    {
     "name": "stdout",
     "output_type": "stream",
     "text": [
      "default dtype:  torch.float32\n",
      "changed dtype:  torch.float16\n"
     ]
    }
   ],
   "source": [
    "#create a tensor with specific datatypes\n",
    "print('default dtype: ',y.dtype)\n",
    "y = torch.rand((2,2),dtype=torch.float16)\n",
    "print('changed dtype: ',y.dtype)"
   ]
  },
  {
   "cell_type": "code",
   "execution_count": 5,
   "id": "d38528cd",
   "metadata": {},
   "outputs": [
    {
     "name": "stdout",
     "output_type": "stream",
     "text": [
      "torch.Size([2, 2])\n"
     ]
    }
   ],
   "source": [
    "#look at the size of the tensor, since it is function, use()\n",
    "print(y.size())"
   ]
  },
  {
   "cell_type": "code",
   "execution_count": 6,
   "id": "0a23e09a",
   "metadata": {},
   "outputs": [
    {
     "name": "stdout",
     "output_type": "stream",
     "text": [
      "tensor([1.7000, 4.0000, 6.0000, 8.9000])\n"
     ]
    }
   ],
   "source": [
    "#create tensor from data-> ex python list\n",
    "x = torch.tensor([1.7, 4, 6, 8.9])\n",
    "print(x)"
   ]
  },
  {
   "cell_type": "markdown",
   "id": "568dd13d",
   "metadata": {},
   "source": [
    "## Basic operation on Tensors\n",
    "    * torch.add_\n",
    "    * torch.sub_\n",
    "    * torch.div_\n",
    "    * torch.mul_"
   ]
  },
  {
   "cell_type": "code",
   "execution_count": 7,
   "id": "b07798e8",
   "metadata": {},
   "outputs": [
    {
     "name": "stdout",
     "output_type": "stream",
     "text": [
      "x:  tensor([[0.7979, 0.8564],\n",
      "        [0.8841, 0.9670]])\n",
      "y:  tensor([[0.1045, 0.9670],\n",
      "        [0.9743, 0.0599]])\n",
      "z:  tensor([[0.9023, 1.8234],\n",
      "        [1.8584, 1.0269]])\n"
     ]
    }
   ],
   "source": [
    "x = torch.rand((2,2))\n",
    "y = torch.rand((2,2))\n",
    "\n",
    "#add x and y\n",
    "z = torch.add(x,y)\n",
    "print('x: ',x)\n",
    "print('y: ',y)\n",
    "print('z: ',z)"
   ]
  },
  {
   "cell_type": "code",
   "execution_count": 8,
   "id": "c098dbbf",
   "metadata": {},
   "outputs": [
    {
     "name": "stdout",
     "output_type": "stream",
     "text": [
      "initial y:  tensor([[0.1045, 0.9670],\n",
      "        [0.9743, 0.0599]])\n",
      "y after x addition:  tensor([[0.9023, 1.8234],\n",
      "        [1.8584, 1.0269]])\n"
     ]
    }
   ],
   "source": [
    "#inplace addition --> _function do the inplace update\n",
    "print('initial y: ',y)\n",
    "y.add_(x)\n",
    "\n",
    "print('y after x addition: ',y)"
   ]
  },
  {
   "cell_type": "markdown",
   "id": "c06fa671",
   "metadata": {},
   "source": [
    "## How to extract value of single element of torch tensor"
   ]
  },
  {
   "cell_type": "code",
   "execution_count": 9,
   "id": "33178501",
   "metadata": {},
   "outputs": [
    {
     "name": "stdout",
     "output_type": "stream",
     "text": [
      "tensor([[0.8612, 0.3016, 0.3251],\n",
      "        [0.1772, 0.2668, 0.4793],\n",
      "        [0.8520, 0.0654, 0.6757],\n",
      "        [0.4053, 0.8343, 0.6477],\n",
      "        [0.9940, 0.4332, 0.3009]])\n"
     ]
    }
   ],
   "source": [
    "x = torch.rand(5,3)\n",
    "print(x)"
   ]
  },
  {
   "cell_type": "code",
   "execution_count": 10,
   "id": "704fc2a1",
   "metadata": {},
   "outputs": [
    {
     "name": "stdout",
     "output_type": "stream",
     "text": [
      "tensor(0.2668)\n",
      "0.2667570114135742\n"
     ]
    }
   ],
   "source": [
    "ele1 = x[1,1]\n",
    "print(ele1)\n",
    "\n",
    "#value of the tensor element\n",
    "ele1_val = x[1,1].item()\n",
    "print(ele1_val)"
   ]
  },
  {
   "cell_type": "markdown",
   "id": "6e4c82e7",
   "metadata": {},
   "source": [
    "## Resize the tensor\n",
    "    * .view()"
   ]
  },
  {
   "cell_type": "code",
   "execution_count": 11,
   "id": "3d669c79",
   "metadata": {},
   "outputs": [
    {
     "name": "stdout",
     "output_type": "stream",
     "text": [
      "torch.Size([3, 5])\n"
     ]
    }
   ],
   "source": [
    "y = x.view(-1,5)\n",
    "print(y.shape)"
   ]
  },
  {
   "cell_type": "markdown",
   "id": "73e0566e",
   "metadata": {},
   "source": [
    "# from numpy to tensor or vice -versa\n",
    "    *  **if using cpu**, means tensor is on cpu, then both tensor and numpy object shares same memory location\n",
    "    \n",
    "    \"\"\"\n",
    "    ### if suppose gpu is available ###\n",
    "    \n",
    "    if torch.cuda.is_available():\n",
    "        device = torch.device(\"cuda\")\n",
    "        x = torch.ones(5, device = device)   # method 1\n",
    "        \n",
    "        y = torch.ones(5)                    # method 2\n",
    "        y = y.to(device)                     # this will move the y on device i.e cuda (gpu)\n",
    "        \n",
    "        z = x + y                            # this will perform at GPU\n",
    "        \n",
    "        ### give an error ###                # bcz gpu tensor cannot convert back into numpy\n",
    "        z.numpy()    \n",
    "        \n",
    "        ### solution --> first convert into cpu tensor ##\n",
    "        z = z.to(\"cpu\")      \n",
    "    \"\"\""
   ]
  },
  {
   "cell_type": "code",
   "execution_count": 12,
   "id": "e81f0241",
   "metadata": {},
   "outputs": [
    {
     "name": "stdout",
     "output_type": "stream",
     "text": [
      "--Tensor to numpy conversion--\n",
      "tensor([1., 1., 1., 1., 1.])\n",
      "[1. 1. 1. 1. 1.]\n",
      "-------\n",
      "tensor([2., 2., 2., 2., 2.])\n",
      "[2. 2. 2. 2. 2.]\n"
     ]
    }
   ],
   "source": [
    "import numpy as np\n",
    "print('--Tensor to numpy conversion--')\n",
    "x = torch.ones(5)\n",
    "print(x)\n",
    "\n",
    "#conversion from tensor into numpy--> only possible if tensor is on cpu, if tensor is on gpu it will give error\n",
    "y = x.numpy()\n",
    "print(y)\n",
    "\n",
    "#share same memory location\n",
    "print('-------')\n",
    "x.add_(1)\n",
    "print(x)\n",
    "print(y)\n"
   ]
  },
  {
   "cell_type": "markdown",
   "id": "e9d6ac06",
   "metadata": {},
   "source": [
    "## required grads ??\n",
    "    * lot of time when tensor is created we pass the argumnet requires_grad = True(default= False)\n",
    "    * reason: variable that we want to optimize, means who gradient will be req in future to update its values. "
   ]
  },
  {
   "cell_type": "code",
   "execution_count": 13,
   "id": "8794d488",
   "metadata": {},
   "outputs": [
    {
     "name": "stdout",
     "output_type": "stream",
     "text": [
      "tensor([1., 1., 1., 1., 1.], requires_grad=True)\n"
     ]
    }
   ],
   "source": [
    "#want to optimize the value of weights\n",
    "w = torch.ones(5, requires_grad= True)\n",
    "print(w)"
   ]
  },
  {
   "cell_type": "code",
   "execution_count": null,
   "id": "25152d72",
   "metadata": {},
   "outputs": [],
   "source": []
  }
 ],
 "metadata": {
  "kernelspec": {
   "display_name": "Python 3 (ipykernel)",
   "language": "python",
   "name": "python3"
  },
  "language_info": {
   "codemirror_mode": {
    "name": "ipython",
    "version": 3
   },
   "file_extension": ".py",
   "mimetype": "text/x-python",
   "name": "python",
   "nbconvert_exporter": "python",
   "pygments_lexer": "ipython3",
   "version": "3.8.10"
  }
 },
 "nbformat": 4,
 "nbformat_minor": 5
}
