{
 "cells": [
  {
   "cell_type": "markdown",
   "id": "49fa070b",
   "metadata": {},
   "source": [
    "## Tensor Basics\n"
   ]
  },
  {
   "cell_type": "code",
   "execution_count": null,
   "id": "1fb737a1",
   "metadata": {},
   "outputs": [],
   "source": [
    "import torch"
   ]
  },
  {
   "cell_type": "code",
   "execution_count": null,
   "id": "22fac5bb",
   "metadata": {},
   "outputs": [],
   "source": [
    "#create an empty tensor-> returns a tensor filled with uninitialized data\\\n",
    "x = torch.empty(3)\n",
    "print(x)"
   ]
  },
  {
   "cell_type": "code",
   "execution_count": null,
   "id": "a5eb9b98",
   "metadata": {},
   "outputs": [],
   "source": [
    "#create tensor with random values\n",
    "y = torch.rand(2,2)\n",
    "print(y)"
   ]
  },
  {
   "cell_type": "code",
   "execution_count": null,
   "id": "3d95889e",
   "metadata": {},
   "outputs": [],
   "source": [
    "#create a tensor with specific datatypes\n",
    "print('default dtype: ',y.dtype)\n",
    "y = torch.rand((2,2),dtype=torch.float16)\n",
    "print('changed dtype: ',y.dtype)"
   ]
  },
  {
   "cell_type": "code",
   "execution_count": null,
   "id": "d38528cd",
   "metadata": {},
   "outputs": [],
   "source": [
    "#look at the size of the tensor, since it is function, use()\n",
    "print(y.size())"
   ]
  },
  {
   "cell_type": "code",
   "execution_count": null,
   "id": "0a23e09a",
   "metadata": {},
   "outputs": [],
   "source": [
    "#create tensor from data-> ex python list\n",
    "x = torch.tensor([1.7, 4, 6, 8.9])\n",
    "print(x)"
   ]
  },
  {
   "cell_type": "markdown",
   "id": "568dd13d",
   "metadata": {},
   "source": [
    "## Basic operation on Tensors\n",
    "    * torch.add_\n",
    "    * torch.sub_\n",
    "    * torch.div_\n",
    "    * torch.mul_"
   ]
  },
  {
   "cell_type": "code",
   "execution_count": null,
   "id": "b07798e8",
   "metadata": {},
   "outputs": [],
   "source": [
    "x = torch.rand((2,2))\n",
    "y = torch.rand((2,2))\n",
    "\n",
    "#add x and y\n",
    "z = torch.add(x,y)\n",
    "print('x: ',x)\n",
    "print('y: ',y)\n",
    "print('z: ',z)"
   ]
  },
  {
   "cell_type": "code",
   "execution_count": null,
   "id": "c098dbbf",
   "metadata": {},
   "outputs": [],
   "source": [
    "#inplace addition --> _function do the inplace update\n",
    "print('initial y: ',y)\n",
    "y.add_(x)\n",
    "\n",
    "print('y after x addition: ',y)"
   ]
  },
  {
   "cell_type": "markdown",
   "id": "c06fa671",
   "metadata": {},
   "source": [
    "## How to extract value of single element of torch tensor"
   ]
  },
  {
   "cell_type": "code",
   "execution_count": null,
   "id": "33178501",
   "metadata": {},
   "outputs": [],
   "source": [
    "x = torch.rand(5,3)\n",
    "print(x)"
   ]
  },
  {
   "cell_type": "code",
   "execution_count": null,
   "id": "704fc2a1",
   "metadata": {},
   "outputs": [],
   "source": [
    "ele1 = x[1,1]\n",
    "print(ele1)\n",
    "\n",
    "#value of the tensor element\n",
    "ele1_val = x[1,1].item()\n",
    "print(ele1_val)"
   ]
  },
  {
   "cell_type": "markdown",
   "id": "6e4c82e7",
   "metadata": {},
   "source": [
    "## Resize the tensor\n",
    "    * .view()"
   ]
  },
  {
   "cell_type": "code",
   "execution_count": null,
   "id": "3d669c79",
   "metadata": {},
   "outputs": [],
   "source": [
    "y = x.view(-1,5)\n",
    "print(y.shape)"
   ]
  },
  {
   "cell_type": "markdown",
   "id": "73e0566e",
   "metadata": {},
   "source": [
    "# from numpy to tensor or vice -versa\n",
    "    *  **if using cpu**, means tensor is on cpu, then both tensor and numpy object shares same memory location\n",
    "    \n",
    "    \"\"\"\n",
    "    ### if suppose gpu is available ###\n",
    "    \n",
    "    if torch.cuda.is_available():\n",
    "        device = torch.device(\"cuda\")\n",
    "        x = torch.ones(5, device = device)   # method 1\n",
    "        \n",
    "        y = torch.ones(5)                    # method 2\n",
    "        y = y.to(device)                     # this will move the y on device i.e cuda (gpu)\n",
    "        \n",
    "        z = x + y                            # this will perform at GPU\n",
    "        \n",
    "        ### give an error ###                # bcz gpu tensor cannot convert back into numpy\n",
    "        z.numpy()    \n",
    "        \n",
    "        ### solution --> first convert into cpu tensor ##\n",
    "        z = z.to(\"cpu\")      \n",
    "    \"\"\""
   ]
  },
  {
   "cell_type": "code",
   "execution_count": null,
   "id": "e81f0241",
   "metadata": {},
   "outputs": [],
   "source": [
    "import numpy as np\n",
    "print('--Tensor to numpy conversion--')\n",
    "x = torch.ones(5)\n",
    "print(x)\n",
    "\n",
    "#conversion from tensor into numpy--> only possible if tensor is on cpu, if tensor is on gpu it will give error\n",
    "y = x.numpy()\n",
    "print(y)\n",
    "\n",
    "#share same memory location\n",
    "print('-------')\n",
    "x.add_(1)\n",
    "print(x)\n",
    "print(y)\n"
   ]
  },
  {
   "cell_type": "markdown",
   "id": "e9d6ac06",
   "metadata": {},
   "source": [
    "## required grads ??\n",
    "    * lot of time when tensor is created we pass the argumnet requires_grad = True(default= False)\n",
    "    * reason: variable that we want to optimize, means who gradient will be req in future to update its values. "
   ]
  },
  {
   "cell_type": "code",
   "execution_count": null,
   "id": "8794d488",
   "metadata": {},
   "outputs": [],
   "source": [
    "#want to optimize the value of weights\n",
    "w = torch.ones(5, requires_grad= True)\n",
    "print(w)"
   ]
  },
  {
   "cell_type": "code",
   "execution_count": null,
   "id": "25152d72",
   "metadata": {},
   "outputs": [],
   "source": []
  }
 ],
 "metadata": {
  "kernelspec": {
   "display_name": "Python 3.10.6 ('cuda')",
   "language": "python",
   "name": "python3"
  },
  "language_info": {
   "codemirror_mode": {
    "name": "ipython",
    "version": 3
   },
   "file_extension": ".py",
   "mimetype": "text/x-python",
   "name": "python",
   "nbconvert_exporter": "python",
   "pygments_lexer": "ipython3",
   "version": "3.10.6"
  },
  "vscode": {
   "interpreter": {
    "hash": "d02d0ffb376f6b2e4ca1f8d4058a441b034fe5c0dd48322e08c980aa2a81142b"
   }
  }
 },
 "nbformat": 4,
 "nbformat_minor": 5
}
