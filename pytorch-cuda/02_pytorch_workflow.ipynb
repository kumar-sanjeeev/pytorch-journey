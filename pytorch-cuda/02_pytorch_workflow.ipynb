{
 "cells": [
  {
   "cell_type": "markdown",
   "id": "137d3eff",
   "metadata": {},
   "source": [
    "## PyTorch Workflow\n",
    "1. Data (prepare and load)\n",
    "2. Build model\n",
    "3. Fitting the model to data (training)\n",
    "4. Make inference and evaluate model (inference)\n",
    "5. Saving and Loading the model\n"
   ]
  },
  {
   "cell_type": "code",
   "execution_count": 1,
   "id": "5568b63f",
   "metadata": {},
   "outputs": [],
   "source": [
    "# importing libraries\n",
    "import torch\n",
    "import pandas as pd\n",
    "import numpy as np\n",
    "from torch import nn\n",
    "import matplotlib.pyplot as plt"
   ]
  },
  {
   "cell_type": "markdown",
   "id": "1f7636cc",
   "metadata": {},
   "source": [
    "## Data preparaing and Loading"
   ]
  },
  {
   "cell_type": "code",
   "execution_count": 2,
   "id": "0809fbb9",
   "metadata": {},
   "outputs": [
    {
     "name": "stdout",
     "output_type": "stream",
     "text": [
      "torch.Size([50, 1])\n",
      "torch.Size([50, 1])\n"
     ]
    }
   ],
   "source": [
    "# create known parameters\n",
    "weight = 0.7\n",
    "bias = 0.3\n",
    "\n",
    "# create data\n",
    "X = torch.arange(start=0, end=1, step=0.02).unsqueeze(dim=1)\n",
    "Y = weight*X + bias\n",
    "print(X.shape)\n",
    "print(Y.shape)"
   ]
  },
  {
   "cell_type": "markdown",
   "id": "0159eec5",
   "metadata": {},
   "source": [
    "## Splitting Data into Train and Test data"
   ]
  },
  {
   "cell_type": "code",
   "execution_count": 3,
   "id": "fca6b2a8",
   "metadata": {},
   "outputs": [
    {
     "name": "stdout",
     "output_type": "stream",
     "text": [
      "40 40 10 10\n"
     ]
    }
   ],
   "source": [
    "# create a train/test split\n",
    "train = int(0.8 *len(X))\n",
    "X_train, Y_train = X[:train], Y[:train]\n",
    "X_test, Y_test = X[train:], Y[train:]\n",
    "\n",
    "print(len(X_train), len(Y_train), len(X_test), len(Y_test))"
   ]
  },
  {
   "cell_type": "markdown",
   "id": "53e6f423",
   "metadata": {},
   "source": [
    "## Visulaize the input data"
   ]
  },
  {
   "cell_type": "code",
   "execution_count": 4,
   "id": "5ffb6e08",
   "metadata": {},
   "outputs": [],
   "source": [
    "def plot_predications (train_data = X_train,\n",
    "                       train_labels = Y_train,\n",
    "                       test_data = X_test,\n",
    "                       test_labels = Y_test,\n",
    "                       predications = None):\n",
    "    \"\"\"\n",
    "    plotting the training data, test data and compares predications\n",
    "    \"\"\"\n",
    "    plt.figure(figsize=(10,7))\n",
    "    \n",
    "    # plot training data \n",
    "    plt.scatter(train_data, train_labels, c=\"b\", s=4, label= \"Training Data\")\n",
    "    \n",
    "    # plot testing data\n",
    "    plt.scatter(test_data, test_labels, c=\"g\", s=4, label = \"Testing Data\")\n",
    "    \n",
    "    if predications is not None:\n",
    "        # plot the predications\n",
    "        plt.scatter(test_data, predications, c=\"r\", s=4, label = \"Predications\")\n",
    "    \n",
    "    # show legends\n",
    "    plt.legend(prop={\"size\": 14})\n",
    "    "
   ]
  },
  {
   "cell_type": "code",
   "execution_count": 5,
   "id": "ad4662ed",
   "metadata": {},
   "outputs": [
    {
     "data": {
      "image/png": "[encoded data removed]",
      "text/plain": [
       "<Figure size 1000x700 with 1 Axes>"
      ]
     },
     "metadata": {},
     "output_type": "display_data"
    }
   ],
   "source": [
    "plot_predications()"
   ]
  },
  {
   "cell_type": "markdown",
   "id": "553277a4",
   "metadata": {},
   "source": [
    "## Build Model\n",
    "*  **Linear Regression Model**\n",
    "*  `documentation:`https://pytorch.org/docs/stable/nn.html"
   ]
  },
  {
   "cell_type": "code",
   "execution_count": 6,
   "id": "554a271d",
   "metadata": {},
   "outputs": [],
   "source": [
    "# create a linear regression model class\n",
    "class LinearRegression(nn.Module):\n",
    "    def __init__(self):\n",
    "        super().__init__()\n",
    "        \n",
    "        # initialize the model parameters\n",
    "        self.weights = nn.Parameter(torch.rand(1,                           # start with random value\n",
    "                                               requires_grad = True,        # to optimize this parameter using gradient method algo\n",
    "                                               dtype = torch.float32))\n",
    "        \n",
    "        self.bias = nn.Parameter(torch.rand(1,\n",
    "                                            requires_grad = True,\n",
    "                                            dtype = torch.float32))\n",
    "        \n",
    "        ## override the forward method\n",
    "        ## forward method to define the computation in the model\n",
    "    def forward(self, x:torch.Tensor) -> torch.Tensor:\n",
    "        return self.weights*x + self.bias"
   ]
  },
  {
   "cell_type": "markdown",
   "id": "00f54bab",
   "metadata": {},
   "source": [
    "### PyTorch Model building essentials\n",
    "*  **`torch.nn`**: contains all the buildings for computational graphs\n",
    "*  **`torch.nn.Parameter`**: what parameters should our model try and learn \n",
    "*  **`torch.nn.Module`** : base class for all neural network modules\n",
    "*  **`torch.optim`** : this will help to implement optimization algo : gradient descent, to learn parameters\n",
    "*  **`def forward()`** : all nn.Module subclasses require to overwrite the forward method of the class\n",
    "*  **`documentation`** : **PyTorch Cheat Sheet**: https://pytorch.org/tutorials/beginner/ptcheat.html"
   ]
  },
  {
   "cell_type": "code",
   "execution_count": null,
   "id": "1a919406",
   "metadata": {},
   "outputs": [],
   "source": []
  },
  {
   "cell_type": "code",
   "execution_count": 7,
   "id": "1367cf48",
   "metadata": {},
   "outputs": [
    {
     "data": {
      "text/plain": [
       "[Parameter containing:\n",
       " tensor([0.8823], requires_grad=True),\n",
       " Parameter containing:\n",
       " tensor([0.9150], requires_grad=True)]"
      ]
     },
     "execution_count": 7,
     "metadata": {},
     "output_type": "execute_result"
    }
   ],
   "source": [
    "## checking the content of PyTorch model\n",
    "# create a random seed\n",
    "torch.manual_seed(42)\n",
    "\n",
    "# create an instance of the model\n",
    "model = LinearRegression()\n",
    "list(model.parameters())"
   ]
  },
  {
   "cell_type": "code",
   "execution_count": 8,
   "id": "3d19aee0",
   "metadata": {},
   "outputs": [
    {
     "data": {
      "text/plain": [
       "OrderedDict([('weights', tensor([0.8823])), ('bias', tensor([0.9150]))])"
      ]
     },
     "execution_count": 8,
     "metadata": {},
     "output_type": "execute_result"
    }
   ],
   "source": [
    "# list named parameters\n",
    "model.state_dict()"
   ]
  },
  {
   "cell_type": "code",
   "execution_count": 9,
   "id": "ec8b41b7",
   "metadata": {},
   "outputs": [
    {
     "data": {
      "text/plain": [
       "tensor([[1.6208],\n",
       "        [1.6385],\n",
       "        [1.6561],\n",
       "        [1.6738],\n",
       "        [1.6914],\n",
       "        [1.7090],\n",
       "        [1.7267],\n",
       "        [1.7443],\n",
       "        [1.7620],\n",
       "        [1.7796]], grad_fn=<AddBackward0>)"
      ]
     },
     "execution_count": 9,
     "metadata": {},
     "output_type": "execute_result"
    }
   ],
   "source": [
    "y_preds = model(X_test)\n",
    "y_preds"
   ]
  },
  {
   "cell_type": "markdown",
   "id": "be526b9c",
   "metadata": {},
   "source": [
    "* **torch.no_grad()**\n",
    "* **torch.inference_mode()** : faster in computation than torch.no_grad"
   ]
  },
  {
   "cell_type": "code",
   "execution_count": 10,
   "id": "a628e5cb",
   "metadata": {},
   "outputs": [
    {
     "data": {
      "text/plain": [
       "'\\nwith torch.no_grad():\\n    y_preds = model(X_test)\\n\\n'"
      ]
     },
     "execution_count": 10,
     "metadata": {},
     "output_type": "execute_result"
    }
   ],
   "source": [
    "## making predications using 'torch.inference_mode() ---> turn off the track on the gradient value automatically\n",
    "with torch.inference_mode():                          # with usinh using our output does not have grad_fn attached with it\n",
    "    y_preds = model(X_test)\n",
    "\n",
    "\"\"\"\n",
    "with torch.no_grad():\n",
    "    y_preds = model(X_test)\n",
    "\n",
    "\"\"\""
   ]
  },
  {
   "cell_type": "code",
   "execution_count": 11,
   "id": "d5fc222f",
   "metadata": {},
   "outputs": [
    {
     "data": {
      "image/png": "[encoded data removed]",
      "text/plain": [
       "<Figure size 1000x700 with 1 Axes>"
      ]
     },
     "metadata": {},
     "output_type": "display_data"
    }
   ],
   "source": [
    "# predications are extremely far away\n",
    "plot_predications(predications=y_preds)"
   ]
  },
  {
   "cell_type": "markdown",
   "id": "868338c1",
   "metadata": {},
   "source": [
    "## Train Model\n",
    "* **one way to measure how poor the predication are `loss function/cost funtion`**\n",
    "* **`Loss Function`**: measure the model's predication w.r.t to ideal output value\n",
    "* **`optimizer`** : takes the loss function as input and adjust's the model parameters (eg weight and biases)\n",
    "\n",
    "**`Need a Training and Testing Loop in PyTorch to update parameters`**"
   ]
  },
  {
   "cell_type": "code",
   "execution_count": 12,
   "id": "9839aa45",
   "metadata": {},
   "outputs": [
    {
     "data": {
      "text/plain": [
       "OrderedDict([('weights', tensor([0.8823])), ('bias', tensor([0.9150]))])"
      ]
     },
     "execution_count": 12,
     "metadata": {},
     "output_type": "execute_result"
    }
   ],
   "source": [
    "model.state_dict()"
   ]
  },
  {
   "cell_type": "code",
   "execution_count": 13,
   "id": "396c811b",
   "metadata": {},
   "outputs": [],
   "source": [
    "# setup the loss function\n",
    "loss_fnx = nn.L1Loss()\n",
    "\n",
    "# setup the optimizer\n",
    "optimizer = torch.optim.SGD(params=model.parameters(),\n",
    "                            lr= 0.01)"
   ]
  },
  {
   "cell_type": "markdown",
   "id": "3ef99227",
   "metadata": {},
   "source": [
    "### Building a training loop\n",
    "1. **Loop through data**\n",
    "2. **Forward pass** : gives the predication value for given input data\n",
    "3. **Calculate the loss** : compare forward predication to ground truth labels\n",
    "4. **Optmizer zero grad**\n",
    "5. **Loss backwards** : move backwards through the network to calculate the gradients of each of the parameters of our model with respect to the loss \n",
    "6. **Optimizer Step** : gradient descent\n"
   ]
  },
  {
   "cell_type": "code",
   "execution_count": 14,
   "id": "47b5aeb9",
   "metadata": {},
   "outputs": [
    {
     "name": "stdout",
     "output_type": "stream",
     "text": [
      "Epoch :0 | Loss: 0.6860889196395874 | Test loss : 0.7637526988983154\n",
      "OrderedDict([('weights', tensor([0.8784])), ('bias', tensor([0.9050]))])\n",
      "Epoch :10 | Loss: 0.5708791017532349 | Test loss : 0.6290428042411804\n",
      "OrderedDict([('weights', tensor([0.8394])), ('bias', tensor([0.8050]))])\n",
      "Epoch :20 | Loss: 0.45566922426223755 | Test loss : 0.4943329691886902\n",
      "OrderedDict([('weights', tensor([0.8004])), ('bias', tensor([0.7050]))])\n",
      "Epoch :30 | Loss: 0.34045934677124023 | Test loss : 0.35962313413619995\n",
      "OrderedDict([('weights', tensor([0.7614])), ('bias', tensor([0.6050]))])\n",
      "Epoch :40 | Loss: 0.2252494841814041 | Test loss : 0.2249133139848709\n",
      "OrderedDict([('weights', tensor([0.7224])), ('bias', tensor([0.5050]))])\n",
      "Epoch :50 | Loss: 0.1100396141409874 | Test loss : 0.09020347893238068\n",
      "OrderedDict([('weights', tensor([0.6834])), ('bias', tensor([0.4050]))])\n",
      "Epoch :60 | Loss: 0.009724985808134079 | Test loss : 0.020998019725084305\n",
      "OrderedDict([('weights', tensor([0.6539])), ('bias', tensor([0.3200]))])\n",
      "Epoch :70 | Loss: 0.006216754671186209 | Test loss : 0.014099234715104103\n",
      "OrderedDict([('weights', tensor([0.6707])), ('bias', tensor([0.3120]))])\n",
      "Epoch :80 | Loss: 0.002788322512060404 | Test loss : 0.005826681852340698\n",
      "OrderedDict([('weights', tensor([0.6878])), ('bias', tensor([0.3050]))])\n",
      "Epoch :90 | Loss: 0.007095950655639172 | Test loss : 0.00754010071977973\n",
      "OrderedDict([('weights', tensor([0.6938])), ('bias', tensor([0.2980]))])\n",
      "Epoch :100 | Loss: 0.007095950655639172 | Test loss : 0.00754010071977973\n",
      "OrderedDict([('weights', tensor([0.6938])), ('bias', tensor([0.2980]))])\n",
      "Epoch :110 | Loss: 0.007095950655639172 | Test loss : 0.00754010071977973\n",
      "OrderedDict([('weights', tensor([0.6938])), ('bias', tensor([0.2980]))])\n",
      "Epoch :120 | Loss: 0.007095950655639172 | Test loss : 0.00754010071977973\n",
      "OrderedDict([('weights', tensor([0.6938])), ('bias', tensor([0.2980]))])\n",
      "Epoch :130 | Loss: 0.007095950655639172 | Test loss : 0.00754010071977973\n",
      "OrderedDict([('weights', tensor([0.6938])), ('bias', tensor([0.2980]))])\n",
      "Epoch :140 | Loss: 0.007095950655639172 | Test loss : 0.00754010071977973\n",
      "OrderedDict([('weights', tensor([0.6938])), ('bias', tensor([0.2980]))])\n",
      "Epoch :150 | Loss: 0.007095950655639172 | Test loss : 0.00754010071977973\n",
      "OrderedDict([('weights', tensor([0.6938])), ('bias', tensor([0.2980]))])\n",
      "Epoch :160 | Loss: 0.007095950655639172 | Test loss : 0.00754010071977973\n",
      "OrderedDict([('weights', tensor([0.6938])), ('bias', tensor([0.2980]))])\n",
      "Epoch :170 | Loss: 0.007095950655639172 | Test loss : 0.00754010071977973\n",
      "OrderedDict([('weights', tensor([0.6938])), ('bias', tensor([0.2980]))])\n",
      "Epoch :180 | Loss: 0.007095950655639172 | Test loss : 0.00754010071977973\n",
      "OrderedDict([('weights', tensor([0.6938])), ('bias', tensor([0.2980]))])\n",
      "Epoch :190 | Loss: 0.007095950655639172 | Test loss : 0.00754010071977973\n",
      "OrderedDict([('weights', tensor([0.6938])), ('bias', tensor([0.2980]))])\n"
     ]
    }
   ],
   "source": [
    "epochs  = 200 # loop through the data\n",
    "\n",
    "# these containers to track the model progress\n",
    "epoch_count = []\n",
    "train_loss_values = []\n",
    "test_loss_values = []\n",
    "\n",
    "for epoch in range(epochs):\n",
    "    # set the model to training mode -- means sets all parameters that requires grad to require gradient\n",
    "    model.train()\n",
    "    \n",
    "    # forward pass to calculate y_preds\n",
    "    y_pred = model(X_train)\n",
    "    \n",
    "    # calculate the loss \n",
    "    loss = loss_fnx(y_pred, Y_train)\n",
    "    \n",
    "    # optmizer zero grad  --> since optmizer will accumulate the grad thorugh the loop, hence we need to make it zero before next iter\n",
    "    optimizer.zero_grad()\n",
    "    \n",
    "    # perform backpropagation on the loss w.r.t to parameters of the model\n",
    "    loss.backward()\n",
    "    \n",
    "    # perform gradient descent step\n",
    "    optimizer.step()\n",
    "    #--------------------------------------------------------------------------------------------------#\n",
    "    # Testing Mode- put the model in evaluation mode\n",
    "    model.eval()\n",
    "    with torch.inference_mode(): # turns off gradient tracking and couple of more things\n",
    "        # forward pass\n",
    "        test_pred = model(X_test)\n",
    "        \n",
    "        #calculate the test loss\n",
    "        test_loss = loss_fnx(test_pred, Y_test)\n",
    "    if epoch % 10 == 0:\n",
    "        epoch_count.append(epoch)\n",
    "        train_loss_values.append(loss)\n",
    "        test_loss_values.append(test_loss)\n",
    "        \n",
    "        print(f\"Epoch :{epoch} | Loss: {loss} | Test loss : {test_loss}\")\n",
    "        # print out model state_dict()\n",
    "        print(model.state_dict())"
   ]
  },
  {
   "cell_type": "code",
   "execution_count": 15,
   "id": "02e3dc47",
   "metadata": {},
   "outputs": [
    {
     "data": {
      "image/png": "[encoded data removed]",
      "text/plain": [
       "<Figure size 1000x700 with 1 Axes>"
      ]
     },
     "metadata": {},
     "output_type": "display_data"
    }
   ],
   "source": [
    "# new predications after some training\n",
    "with torch.inference_mode():\n",
    "    y_preds_new = model(X_test)\n",
    "\n",
    "plot_predications(predications=y_preds_new)"
   ]
  },
  {
   "cell_type": "code",
   "execution_count": 16,
   "id": "a4697efe",
   "metadata": {},
   "outputs": [
    {
     "data": {
      "text/plain": [
       "array([0.6860889 , 0.5708791 , 0.45566922, 0.34045935, 0.22524948,\n",
       "       0.11003961, 0.00972499, 0.00621675, 0.00278832, 0.00709595,\n",
       "       0.00709595, 0.00709595, 0.00709595, 0.00709595, 0.00709595,\n",
       "       0.00709595, 0.00709595, 0.00709595, 0.00709595, 0.00709595],\n",
       "      dtype=float32)"
      ]
     },
     "execution_count": 16,
     "metadata": {},
     "output_type": "execute_result"
    }
   ],
   "source": [
    "torch.tensor(train_loss_values).numpy()"
   ]
  },
  {
   "cell_type": "code",
   "execution_count": 17,
   "id": "7981fd1a",
   "metadata": {},
   "outputs": [
    {
     "data": {
      "text/plain": [
       "Text(0.5, 1.0, 'Training and Test loss')"
      ]
     },
     "execution_count": 17,
     "metadata": {},
     "output_type": "execute_result"
    },
    {
     "data": {
      "image/png": "[encoded data removed]",
      "text/plain": [
       "<Figure size 640x480 with 1 Axes>"
      ]
     },
     "metadata": {},
     "output_type": "display_data"
    }
   ],
   "source": [
    "# plot the curves for analysis\n",
    "plt.plot(epoch_count, torch.tensor(train_loss_values).numpy(), label = \"Train Loss\")\n",
    "plt.plot(epoch_count, test_loss_values, label = \"Test Loss\")\n",
    "plt.title(\"Training and Test loss\")"
   ]
  },
  {
   "cell_type": "markdown",
   "id": "ff6ce69a",
   "metadata": {},
   "source": [
    "## Saving and Loading the Model\n",
    "**`Documentation`** : https://pytorch.org/tutorials/beginner/saving_loading_models.html\n",
    "1. **`torch.save()`** : allow to save PyTorch object in Python's pickle object\n",
    "2. **`torch.load()`** : allow to load a saved PyTorch object\n",
    "3. **`torch.nn.Module.load_state_dict()`**: allow to load a model's saved state dictionary"
   ]
  },
  {
   "cell_type": "code",
   "execution_count": 20,
   "id": "bcca188c",
   "metadata": {},
   "outputs": [
    {
     "name": "stdout",
     "output_type": "stream",
     "text": [
      "Saving Model into path: models\\01_Linear_Regression.pth\n"
     ]
    }
   ],
   "source": [
    "# saving PyTorch Model\n",
    "\n",
    "from pathlib import Path\n",
    "# create model directory\n",
    "MODEL_PATH = Path(\"models\")\n",
    "MODEL_PATH.mkdir(parents=True, exist_ok=True)\n",
    "\n",
    "# create model save path\n",
    "MODEL_NAME = \"01_Linear_Regression.pth\"    # .pth or .pt extension to save pytorch object\n",
    "MODEL_SAVE_PATH = MODEL_PATH / MODEL_NAME\n",
    "\n",
    "# printing the model path\n",
    "MODEL_SAVE_PATH\n",
    "\n",
    "# now save the model in the selected path\n",
    "print(f\"Saving Model into path: {MODEL_SAVE_PATH}\")\n",
    "torch.save(obj=model.state_dict(), f=MODEL_SAVE_PATH)"
   ]
  },
  {
   "cell_type": "markdown",
   "id": "c8e8a348",
   "metadata": {},
   "source": [
    "## Load the saved PyTorch model"
   ]
  },
  {
   "cell_type": "code",
   "execution_count": 25,
   "id": "30c22b06",
   "metadata": {},
   "outputs": [
    {
     "name": "stdout",
     "output_type": "stream",
     "text": [
      "OrderedDict([('weights', tensor([0.2566])), ('bias', tensor([0.7936]))])\n",
      "OrderedDict([('weights', tensor([0.6977])), ('bias', tensor([0.3080]))])\n"
     ]
    }
   ],
   "source": [
    "# To load in saved state_dict(), create a new instance of model class\n",
    "loaded_model = LinearRegression()\n",
    "\n",
    "# load the saved state_dict() of model instance that we have created earlier\n",
    "\n",
    "# this is randomly initialized\n",
    "print(loaded_model.state_dict())\n",
    "\n",
    "loaded_model.load_state_dict(torch.load(f=MODEL_SAVE_PATH))\n",
    "\n",
    "# now check again the state_dict()\n",
    "print(loaded_model.state_dict())\n"
   ]
  },
  {
   "cell_type": "code",
   "execution_count": 26,
   "id": "f9b163a9",
   "metadata": {},
   "outputs": [],
   "source": [
    "# make predication with new model\n",
    "loaded_model.eval()\n",
    "with torch.inference_mode():\n",
    "    new_model_preds = loaded_model(X_test)"
   ]
  },
  {
   "cell_type": "code",
   "execution_count": 29,
   "id": "eff7fe3a",
   "metadata": {},
   "outputs": [],
   "source": [
    "## make predication with previous model\n",
    "model.eval()\n",
    "with torch.inference_mode():\n",
    "    previous_model_preds = model(X_test)"
   ]
  },
  {
   "cell_type": "code",
   "execution_count": 30,
   "id": "32bafe3a",
   "metadata": {},
   "outputs": [
    {
     "data": {
      "text/plain": [
       "tensor([[True],\n",
       "        [True],\n",
       "        [True],\n",
       "        [True],\n",
       "        [True],\n",
       "        [True],\n",
       "        [True],\n",
       "        [True],\n",
       "        [True],\n",
       "        [True]])"
      ]
     },
     "execution_count": 30,
     "metadata": {},
     "output_type": "execute_result"
    }
   ],
   "source": [
    "previous_model_preds == new_model_preds"
   ]
  }
 ],
 "metadata": {
  "kernelspec": {
   "display_name": "Python 3 (ipykernel)",
   "language": "python",
   "name": "python3"
  },
  "language_info": {
   "codemirror_mode": {
    "name": "ipython",
    "version": 3
   },
   "file_extension": ".py",
   "mimetype": "text/x-python",
   "name": "python",
   "nbconvert_exporter": "python",
   "pygments_lexer": "ipython3",
   "version": "3.10.6"
  }
 },
 "nbformat": 4,
 "nbformat_minor": 5
}
