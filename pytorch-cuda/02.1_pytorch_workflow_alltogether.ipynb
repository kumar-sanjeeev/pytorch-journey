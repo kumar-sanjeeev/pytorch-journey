{
 "cells": [
  {
   "cell_type": "code",
   "execution_count": 1,
   "id": "51121b27",
   "metadata": {},
   "outputs": [
    {
     "data": {
      "text/plain": [
       "'1.12.1'"
      ]
     },
     "execution_count": 1,
     "metadata": {},
     "output_type": "execute_result"
    }
   ],
   "source": [
    "# Import libraries\n",
    "import torch\n",
    "from torch import nn\n",
    "import numpy as np\n",
    "import matplotlib.pyplot as plt\n",
    "\n",
    "# check torch verison\n",
    "torch.__version__"
   ]
  },
  {
   "cell_type": "code",
   "execution_count": 2,
   "id": "e5546546",
   "metadata": {},
   "outputs": [
    {
     "data": {
      "text/plain": [
       "'cuda'"
      ]
     },
     "execution_count": 2,
     "metadata": {},
     "output_type": "execute_result"
    }
   ],
   "source": [
    "# create device agnostic code: if gpu available, use gpu else cpu\n",
    "device = \"cuda\" if torch.cuda.is_available() else \"cpu\"\n",
    "device"
   ]
  },
  {
   "cell_type": "markdown",
   "id": "56f4db76",
   "metadata": {},
   "source": [
    "## Data"
   ]
  },
  {
   "cell_type": "code",
   "execution_count": 3,
   "id": "e0b37b54",
   "metadata": {},
   "outputs": [],
   "source": [
    "# create data for linear regression problem\n",
    "weight = 0.7\n",
    "bias = 0.3\n",
    "\n",
    "# create the input values and output values\n",
    "X = torch.arange(start = 0, end = 1, step = 0.02).unsqueeze(dim=1)\n",
    "Y = weight*X + bias"
   ]
  },
  {
   "cell_type": "markdown",
   "id": "606aeb42",
   "metadata": {},
   "source": [
    "## Split the data"
   ]
  },
  {
   "cell_type": "code",
   "execution_count": 4,
   "id": "8f909a7e",
   "metadata": {},
   "outputs": [
    {
     "data": {
      "text/plain": [
       "(40, 10)"
      ]
     },
     "execution_count": 4,
     "metadata": {},
     "output_type": "execute_result"
    }
   ],
   "source": [
    "train_split = int(0.8* len(X))\n",
    "\n",
    "X_train, Y_train = X[:train_split], Y[:train_split]\n",
    "X_test, Y_test = X[train_split:], Y[train_split:]\n",
    "\n",
    "# check the length of training and test set\n",
    "len(X_train), len(X_test)"
   ]
  },
  {
   "cell_type": "markdown",
   "id": "e88c9c22",
   "metadata": {},
   "source": [
    "## Plot the data"
   ]
  },
  {
   "cell_type": "code",
   "execution_count": 5,
   "id": "15be50d8",
   "metadata": {},
   "outputs": [],
   "source": [
    "def plot_predications (train_data = X_train,\n",
    "                       train_labels = Y_train,\n",
    "                       test_data = X_test,\n",
    "                       test_labels = Y_test,\n",
    "                       predications = None):\n",
    "    \"\"\"\n",
    "    plotting the training data, test data and compares predications\n",
    "    \"\"\"\n",
    "    plt.figure(figsize=(10,7))\n",
    "    \n",
    "    # plot training data \n",
    "    plt.scatter(train_data, train_labels, c=\"b\", s=4, label= \"Training Data\")\n",
    "    \n",
    "    # plot testing data\n",
    "    plt.scatter(test_data, test_labels, c=\"g\", s=4, label = \"Testing Data\")\n",
    "    \n",
    "    if predications is not None:\n",
    "        # plot the predications\n",
    "        plt.scatter(test_data, predications, c=\"r\", s=4, label = \"Predications\")\n",
    "    \n",
    "    # show legends\n",
    "    plt.legend(prop={\"size\": 14})\n",
    "    "
   ]
  },
  {
   "cell_type": "code",
   "execution_count": 6,
   "id": "af5fb590",
   "metadata": {},
   "outputs": [
    {
     "data": {
      "image/png": "[encoded data removed]",
      "text/plain": [
       "<Figure size 1000x700 with 1 Axes>"
      ]
     },
     "metadata": {},
     "output_type": "display_data"
    }
   ],
   "source": [
    "plot_predications(X_train, Y_train)"
   ]
  },
  {
   "cell_type": "markdown",
   "id": "7e98f47a",
   "metadata": {},
   "source": [
    "## Build the PyTorch Model\n",
    "**`Documentation`**: https://pytorch.org/docs/stable/generated/torch.nn.Linear.html"
   ]
  },
  {
   "cell_type": "code",
   "execution_count": 7,
   "id": "0b73a1f8",
   "metadata": {},
   "outputs": [],
   "source": [
    "# create a linear model by subclassing nn.Module\n",
    "class LinearRegression(nn.Module):\n",
    "    \n",
    "    def __init__(self):\n",
    "        super().__init__()\n",
    "        \n",
    "        # create a linear layer using nn.Linear()\n",
    "        self.linear_layer = nn.Linear(in_features=1, \n",
    "                                      out_features=1)\n",
    "        \n",
    "    # override the forward method\n",
    "    def forward(self, x: torch.Tensor)-> torch.Tensor:\n",
    "        return self.linear_layer(x)"
   ]
  },
  {
   "cell_type": "code",
   "execution_count": 8,
   "id": "5904cc4b",
   "metadata": {},
   "outputs": [
    {
     "data": {
      "text/plain": [
       "OrderedDict([('linear_layer.weight', tensor([[0.7645]])),\n",
       "             ('linear_layer.bias', tensor([0.8300]))])"
      ]
     },
     "execution_count": 8,
     "metadata": {},
     "output_type": "execute_result"
    }
   ],
   "source": [
    "# set the manual seed\n",
    "torch.manual_seed(42)\n",
    "model = LinearRegression()\n",
    "model.state_dict()"
   ]
  },
  {
   "cell_type": "markdown",
   "id": "b9187e68",
   "metadata": {},
   "source": [
    "## Set the Model on GPU"
   ]
  },
  {
   "cell_type": "code",
   "execution_count": 9,
   "id": "c874ef39",
   "metadata": {},
   "outputs": [
    {
     "data": {
      "text/plain": [
       "device(type='cpu')"
      ]
     },
     "execution_count": 9,
     "metadata": {},
     "output_type": "execute_result"
    }
   ],
   "source": [
    "next(model.parameters()).device # current device"
   ]
  },
  {
   "cell_type": "code",
   "execution_count": 10,
   "id": "193cf043",
   "metadata": {},
   "outputs": [
    {
     "data": {
      "text/plain": [
       "device(type='cuda', index=0)"
      ]
     },
     "execution_count": 10,
     "metadata": {},
     "output_type": "execute_result"
    }
   ],
   "source": [
    "# set the model to use the target device --> meaning load the model on the device\n",
    "model.to(device)\n",
    "next(model.parameters()).device # current device"
   ]
  },
  {
   "cell_type": "markdown",
   "id": "9ab8422b",
   "metadata": {},
   "source": [
    "## Training \n",
    "We need following things for training :\n",
    "* **loss function**\n",
    "* **optimizer**\n",
    "* **training loop**\n",
    "* **testing loop**"
   ]
  },
  {
   "cell_type": "code",
   "execution_count": 11,
   "id": "1114d178",
   "metadata": {},
   "outputs": [],
   "source": [
    "# set the loss function\n",
    "loss_fnx = nn.L1Loss()\n",
    "\n",
    "# set the optimizer\n",
    "optimizer = torch.optim.SGD(params=model.parameters(), \n",
    "                            lr= 0.01)"
   ]
  },
  {
   "cell_type": "code",
   "execution_count": 17,
   "id": "2bfe4e39",
   "metadata": {},
   "outputs": [
    {
     "name": "stdout",
     "output_type": "stream",
     "text": [
      "Epoch: 0   || train_loss: 0.0012645035749301314   || test_loss: 0.013801801018416882\n",
      "Epoch: 10   || train_loss: 0.0012645035749301314   || test_loss: 0.013801801018416882\n",
      "Epoch: 20   || train_loss: 0.0012645035749301314   || test_loss: 0.013801801018416882\n",
      "Epoch: 30   || train_loss: 0.0012645035749301314   || test_loss: 0.013801801018416882\n",
      "Epoch: 40   || train_loss: 0.0012645035749301314   || test_loss: 0.013801801018416882\n",
      "Epoch: 50   || train_loss: 0.0012645035749301314   || test_loss: 0.013801801018416882\n",
      "Epoch: 60   || train_loss: 0.0012645035749301314   || test_loss: 0.013801801018416882\n",
      "Epoch: 70   || train_loss: 0.0012645035749301314   || test_loss: 0.013801801018416882\n",
      "Epoch: 80   || train_loss: 0.0012645035749301314   || test_loss: 0.013801801018416882\n",
      "Epoch: 90   || train_loss: 0.0012645035749301314   || test_loss: 0.013801801018416882\n",
      "Epoch: 100   || train_loss: 0.0012645035749301314   || test_loss: 0.013801801018416882\n",
      "Epoch: 110   || train_loss: 0.0012645035749301314   || test_loss: 0.013801801018416882\n",
      "Epoch: 120   || train_loss: 0.0012645035749301314   || test_loss: 0.013801801018416882\n",
      "Epoch: 130   || train_loss: 0.0012645035749301314   || test_loss: 0.013801801018416882\n",
      "Epoch: 140   || train_loss: 0.0012645035749301314   || test_loss: 0.013801801018416882\n",
      "Epoch: 150   || train_loss: 0.0012645035749301314   || test_loss: 0.013801801018416882\n",
      "Epoch: 160   || train_loss: 0.0012645035749301314   || test_loss: 0.013801801018416882\n",
      "Epoch: 170   || train_loss: 0.0012645035749301314   || test_loss: 0.013801801018416882\n",
      "Epoch: 180   || train_loss: 0.0012645035749301314   || test_loss: 0.013801801018416882\n",
      "Epoch: 190   || train_loss: 0.0012645035749301314   || test_loss: 0.013801801018416882\n"
     ]
    }
   ],
   "source": [
    "# Let's write the training loop\n",
    "torch.manual_seed(42)\n",
    "epochs = 200\n",
    "\n",
    "epoch_count = []\n",
    "train_loss_list = []\n",
    "test_loss_list = []\n",
    "\n",
    "# put the data on the target device\n",
    "X_train = X_train.to(device)\n",
    "Y_train = Y_train.to(device)\n",
    "\n",
    "X_test = X_test.to(device)\n",
    "Y_test = Y_test.to(device)\n",
    "\n",
    "for epoch in range(epochs):\n",
    "    # set the model on training mode\n",
    "    model.train()\n",
    "    \n",
    "    # forward pass\n",
    "    Y_preds = model(X_train)\n",
    "    \n",
    "    # calculate loss\n",
    "    train_loss = loss_fnx(Y_preds, Y_train)\n",
    "    \n",
    "    # zero-out the optimizer gradients\n",
    "    optimizer.zero_grad()\n",
    "    \n",
    "    # backpropagation\n",
    "    train_loss.backward()\n",
    "    \n",
    "    # take optimization step\n",
    "    optimizer.step()\n",
    "    \n",
    "    ##-----------Testing Loop--------------##\n",
    "    # set the model in evaluation mode\n",
    "    model.eval()\n",
    "    \n",
    "    with torch.inference_mode():\n",
    "        test_preds = model(X_test)\n",
    "        \n",
    "        # calculate the test loss\n",
    "        test_loss = loss_fnx(test_preds, Y_test)\n",
    "    \n",
    "    # print out the training and testing stats\n",
    "    if epoch % 10 == 0:\n",
    "        epoch_count.append(epoch)\n",
    "        train_loss_list.append(torch.Tensor(train_loss))\n",
    "        test_loss_list.append(test_loss)\n",
    "        \n",
    "        print(f\"Epoch: {epoch}   || train_loss: {train_loss}   || test_loss: {test_loss}\")"
   ]
  },
  {
   "cell_type": "code",
   "execution_count": 13,
   "id": "6553f0ac",
   "metadata": {},
   "outputs": [
    {
     "data": {
      "text/plain": [
       "OrderedDict([('linear_layer.weight', tensor([[0.6968]], device='cuda:0')),\n",
       "             ('linear_layer.bias', tensor([0.3025], device='cuda:0'))])"
      ]
     },
     "execution_count": 13,
     "metadata": {},
     "output_type": "execute_result"
    }
   ],
   "source": [
    "model.state_dict()"
   ]
  },
  {
   "cell_type": "code",
   "execution_count": 14,
   "id": "c680b67e",
   "metadata": {},
   "outputs": [
    {
     "data": {
      "text/plain": [
       "tensor([[0.9018],\n",
       "        [0.9115],\n",
       "        [0.9213],\n",
       "        [0.9310],\n",
       "        [0.9408],\n",
       "        [0.9505],\n",
       "        [0.9603],\n",
       "        [0.9701],\n",
       "        [0.9798],\n",
       "        [0.9896]], device='cuda:0')"
      ]
     },
     "execution_count": 14,
     "metadata": {},
     "output_type": "execute_result"
    }
   ],
   "source": [
    "## plot the predications\n",
    "model.eval()\n",
    "\n",
    "# make predication on test data\n",
    "with torch.inference_mode():\n",
    "    new_preds = model(Y_test)\n",
    "\n",
    "new_preds"
   ]
  },
  {
   "cell_type": "code",
   "execution_count": 18,
   "id": "774baf76",
   "metadata": {},
   "outputs": [
    {
     "data": {
      "image/png": "[encoded data removed]",
      "text/plain": [
       "<Figure size 1000x700 with 1 Axes>"
      ]
     },
     "metadata": {},
     "output_type": "display_data"
    }
   ],
   "source": [
    "plot_predications(predications=torch.Tensor(new_preds).cpu().numpy())"
   ]
  },
  {
   "cell_type": "code",
   "execution_count": null,
   "id": "0b4461ad",
   "metadata": {},
   "outputs": [],
   "source": []
  }
 ],
 "metadata": {
  "kernelspec": {
   "display_name": "Python 3 (ipykernel)",
   "language": "python",
   "name": "python3"
  },
  "language_info": {
   "codemirror_mode": {
    "name": "ipython",
    "version": 3
   },
   "file_extension": ".py",
   "mimetype": "text/x-python",
   "name": "python",
   "nbconvert_exporter": "python",
   "pygments_lexer": "ipython3",
   "version": "3.10.6"
  }
 },
 "nbformat": 4,
 "nbformat_minor": 5
}
