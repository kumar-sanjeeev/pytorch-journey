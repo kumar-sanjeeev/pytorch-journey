{
 "cells": [
  {
   "cell_type": "markdown",
   "id": "de2f043e",
   "metadata": {},
   "source": [
    "## computer vision libraries in pyTorch\n",
    "* **`[torchvision]`**:https://pytorch.org/vision/stable/index.html\n",
    "* **`[torchvision.datasets]`**\n",
    "* **`[torchvision.models]`**\n",
    "* **`[torchvision.transforms]`**\n",
    "* **`[torch.utils.data.Dataset]`**\n",
    "* **`[torch.utils.data.DataLoader]`**"
   ]
  },
  {
   "cell_type": "code",
   "execution_count": 1,
   "id": "3030f4f7",
   "metadata": {},
   "outputs": [
    {
     "name": "stdout",
     "output_type": "stream",
     "text": [
      "1.12.1\n",
      "0.13.1\n"
     ]
    }
   ],
   "source": [
    "# import libraries\n",
    "import torch\n",
    "from torch import nn\n",
    "import matplotlib.pyplot as plt\n",
    "import numpy as np\n",
    "\n",
    "# import torchvision libraries\n",
    "import torchvision\n",
    "from torchvision import datasets   # to download the dataset\n",
    "from torchvision import transforms\n",
    "from torchvision.transforms import ToTensor\n",
    "\n",
    "print(torch.__version__)\n",
    "print(torchvision.__version__)"
   ]
  },
  {
   "cell_type": "markdown",
   "id": "c6e63f65",
   "metadata": {},
   "source": [
    "## Getting a dataset\n",
    "* `documentation`: https://pytorch.org/vision/stable/generated/torchvision.datasets.FashionMNIST.html"
   ]
  },
  {
   "cell_type": "code",
   "execution_count": 2,
   "id": "374264d3",
   "metadata": {},
   "outputs": [],
   "source": [
    "## setup training data\n",
    "\n",
    "train_data = datasets.FashionMNIST(root=\"data\", \n",
    "                                   train=True, \n",
    "                                   download=True,   # do we want the training dataset\n",
    "                                   transform = torchvision.transforms.ToTensor(), # do we want to transform the data\n",
    "                                   target_transform = None) # how do we want to transfrom the labels/targets\n",
    "\n",
    "test_data = datasets.FashionMNIST(root=\"data\",\n",
    "                                  train = False,\n",
    "                                  download=True,\n",
    "                                  transform = ToTensor(),\n",
    "                                  target_transform = None\n",
    "                                  )"
   ]
  },
  {
   "cell_type": "code",
   "execution_count": 3,
   "id": "036ab49e",
   "metadata": {},
   "outputs": [
    {
     "data": {
      "text/plain": [
       "(60000, 10000)"
      ]
     },
     "execution_count": 3,
     "metadata": {},
     "output_type": "execute_result"
    }
   ],
   "source": [
    "len(train_data), len(test_data)"
   ]
  },
  {
   "cell_type": "code",
   "execution_count": 4,
   "id": "70b450ff",
   "metadata": {},
   "outputs": [
    {
     "name": "stdout",
     "output_type": "stream",
     "text": [
      "9\n"
     ]
    }
   ],
   "source": [
    "image, label = train_data[0]\n",
    "print(label)"
   ]
  },
  {
   "cell_type": "code",
   "execution_count": 5,
   "id": "77d676be",
   "metadata": {},
   "outputs": [
    {
     "data": {
      "text/plain": [
       "['T-shirt/top',\n",
       " 'Trouser',\n",
       " 'Pullover',\n",
       " 'Dress',\n",
       " 'Coat',\n",
       " 'Sandal',\n",
       " 'Shirt',\n",
       " 'Sneaker',\n",
       " 'Bag',\n",
       " 'Ankle boot']"
      ]
     },
     "execution_count": 5,
     "metadata": {},
     "output_type": "execute_result"
    }
   ],
   "source": [
    "## different output classes name\n",
    "class_names = train_data.classes\n",
    "class_names"
   ]
  },
  {
   "cell_type": "code",
   "execution_count": 6,
   "id": "a9fb6c0d",
   "metadata": {},
   "outputs": [
    {
     "data": {
      "text/plain": [
       "{'T-shirt/top': 0,\n",
       " 'Trouser': 1,\n",
       " 'Pullover': 2,\n",
       " 'Dress': 3,\n",
       " 'Coat': 4,\n",
       " 'Sandal': 5,\n",
       " 'Shirt': 6,\n",
       " 'Sneaker': 7,\n",
       " 'Bag': 8,\n",
       " 'Ankle boot': 9}"
      ]
     },
     "execution_count": 6,
     "metadata": {},
     "output_type": "execute_result"
    }
   ],
   "source": [
    "# classes with corresponding index value\n",
    "class_to_idx = train_data.class_to_idx\n",
    "class_to_idx"
   ]
  },
  {
   "cell_type": "code",
   "execution_count": 7,
   "id": "06e5f3ba",
   "metadata": {},
   "outputs": [
    {
     "name": "stdout",
     "output_type": "stream",
     "text": [
      "Image shape: torch.Size([1, 28, 28])\n",
      "Image label: Ankle boot\n"
     ]
    }
   ],
   "source": [
    "# check the image shape and label\n",
    "print(f\"Image shape: {image.shape}\")\n",
    "print(f\"Image label: {class_names[label]}\")"
   ]
  },
  {
   "cell_type": "markdown",
   "id": "ab984aa5",
   "metadata": {},
   "source": [
    "## Visualize the Data"
   ]
  },
  {
   "cell_type": "code",
   "execution_count": 8,
   "id": "dd08e4d4",
   "metadata": {},
   "outputs": [
    {
     "ename": "TypeError",
     "evalue": "Invalid shape (1, 28, 28) for image data",
     "output_type": "error",
     "traceback": [
      "\u001b[1;31m---------------------------------------------------------------------------\u001b[0m",
      "\u001b[1;31mTypeError\u001b[0m                                 Traceback (most recent call last)",
      "Input \u001b[1;32mIn [8]\u001b[0m, in \u001b[0;36m<cell line: 3>\u001b[1;34m()\u001b[0m\n\u001b[0;32m      1\u001b[0m \u001b[38;5;66;03m# matplotlib expect the image input in HxWxC but pyTorch reads the image as CxHxW\u001b[39;00m\n\u001b[0;32m      2\u001b[0m image, label \u001b[38;5;241m=\u001b[39m train_data[\u001b[38;5;241m1\u001b[39m]\n\u001b[1;32m----> 3\u001b[0m \u001b[43mplt\u001b[49m\u001b[38;5;241;43m.\u001b[39;49m\u001b[43mimshow\u001b[49m\u001b[43m(\u001b[49m\u001b[43mimage\u001b[49m\u001b[43m)\u001b[49m\n",
      "File \u001b[1;32m~\\.conda\\envs\\cuda\\lib\\site-packages\\matplotlib\\_api\\deprecation.py:459\u001b[0m, in \u001b[0;36mmake_keyword_only.<locals>.wrapper\u001b[1;34m(*args, **kwargs)\u001b[0m\n\u001b[0;32m    453\u001b[0m \u001b[38;5;28;01mif\u001b[39;00m \u001b[38;5;28mlen\u001b[39m(args) \u001b[38;5;241m>\u001b[39m name_idx:\n\u001b[0;32m    454\u001b[0m     warn_deprecated(\n\u001b[0;32m    455\u001b[0m         since, message\u001b[38;5;241m=\u001b[39m\u001b[38;5;124m\"\u001b[39m\u001b[38;5;124mPassing the \u001b[39m\u001b[38;5;132;01m%(name)s\u001b[39;00m\u001b[38;5;124m \u001b[39m\u001b[38;5;132;01m%(obj_type)s\u001b[39;00m\u001b[38;5;124m \u001b[39m\u001b[38;5;124m\"\u001b[39m\n\u001b[0;32m    456\u001b[0m         \u001b[38;5;124m\"\u001b[39m\u001b[38;5;124mpositionally is deprecated since Matplotlib \u001b[39m\u001b[38;5;132;01m%(since)s\u001b[39;00m\u001b[38;5;124m; the \u001b[39m\u001b[38;5;124m\"\u001b[39m\n\u001b[0;32m    457\u001b[0m         \u001b[38;5;124m\"\u001b[39m\u001b[38;5;124mparameter will become keyword-only \u001b[39m\u001b[38;5;132;01m%(removal)s\u001b[39;00m\u001b[38;5;124m.\u001b[39m\u001b[38;5;124m\"\u001b[39m,\n\u001b[0;32m    458\u001b[0m         name\u001b[38;5;241m=\u001b[39mname, obj_type\u001b[38;5;241m=\u001b[39m\u001b[38;5;124mf\u001b[39m\u001b[38;5;124m\"\u001b[39m\u001b[38;5;124mparameter of \u001b[39m\u001b[38;5;132;01m{\u001b[39;00mfunc\u001b[38;5;241m.\u001b[39m\u001b[38;5;18m__name__\u001b[39m\u001b[38;5;132;01m}\u001b[39;00m\u001b[38;5;124m()\u001b[39m\u001b[38;5;124m\"\u001b[39m)\n\u001b[1;32m--> 459\u001b[0m \u001b[38;5;28;01mreturn\u001b[39;00m func(\u001b[38;5;241m*\u001b[39margs, \u001b[38;5;241m*\u001b[39m\u001b[38;5;241m*\u001b[39mkwargs)\n",
      "File \u001b[1;32m~\\.conda\\envs\\cuda\\lib\\site-packages\\matplotlib\\pyplot.py:2652\u001b[0m, in \u001b[0;36mimshow\u001b[1;34m(X, cmap, norm, aspect, interpolation, alpha, vmin, vmax, origin, extent, interpolation_stage, filternorm, filterrad, resample, url, data, **kwargs)\u001b[0m\n\u001b[0;32m   2646\u001b[0m \u001b[38;5;129m@_copy_docstring_and_deprecators\u001b[39m(Axes\u001b[38;5;241m.\u001b[39mimshow)\n\u001b[0;32m   2647\u001b[0m \u001b[38;5;28;01mdef\u001b[39;00m \u001b[38;5;21mimshow\u001b[39m(\n\u001b[0;32m   2648\u001b[0m         X, cmap\u001b[38;5;241m=\u001b[39m\u001b[38;5;28;01mNone\u001b[39;00m, norm\u001b[38;5;241m=\u001b[39m\u001b[38;5;28;01mNone\u001b[39;00m, aspect\u001b[38;5;241m=\u001b[39m\u001b[38;5;28;01mNone\u001b[39;00m, interpolation\u001b[38;5;241m=\u001b[39m\u001b[38;5;28;01mNone\u001b[39;00m,\n\u001b[0;32m   2649\u001b[0m         alpha\u001b[38;5;241m=\u001b[39m\u001b[38;5;28;01mNone\u001b[39;00m, vmin\u001b[38;5;241m=\u001b[39m\u001b[38;5;28;01mNone\u001b[39;00m, vmax\u001b[38;5;241m=\u001b[39m\u001b[38;5;28;01mNone\u001b[39;00m, origin\u001b[38;5;241m=\u001b[39m\u001b[38;5;28;01mNone\u001b[39;00m, extent\u001b[38;5;241m=\u001b[39m\u001b[38;5;28;01mNone\u001b[39;00m, \u001b[38;5;241m*\u001b[39m,\n\u001b[0;32m   2650\u001b[0m         interpolation_stage\u001b[38;5;241m=\u001b[39m\u001b[38;5;28;01mNone\u001b[39;00m, filternorm\u001b[38;5;241m=\u001b[39m\u001b[38;5;28;01mTrue\u001b[39;00m, filterrad\u001b[38;5;241m=\u001b[39m\u001b[38;5;241m4.0\u001b[39m,\n\u001b[0;32m   2651\u001b[0m         resample\u001b[38;5;241m=\u001b[39m\u001b[38;5;28;01mNone\u001b[39;00m, url\u001b[38;5;241m=\u001b[39m\u001b[38;5;28;01mNone\u001b[39;00m, data\u001b[38;5;241m=\u001b[39m\u001b[38;5;28;01mNone\u001b[39;00m, \u001b[38;5;241m*\u001b[39m\u001b[38;5;241m*\u001b[39mkwargs):\n\u001b[1;32m-> 2652\u001b[0m     __ret \u001b[38;5;241m=\u001b[39m gca()\u001b[38;5;241m.\u001b[39mimshow(\n\u001b[0;32m   2653\u001b[0m         X, cmap\u001b[38;5;241m=\u001b[39mcmap, norm\u001b[38;5;241m=\u001b[39mnorm, aspect\u001b[38;5;241m=\u001b[39maspect,\n\u001b[0;32m   2654\u001b[0m         interpolation\u001b[38;5;241m=\u001b[39minterpolation, alpha\u001b[38;5;241m=\u001b[39malpha, vmin\u001b[38;5;241m=\u001b[39mvmin,\n\u001b[0;32m   2655\u001b[0m         vmax\u001b[38;5;241m=\u001b[39mvmax, origin\u001b[38;5;241m=\u001b[39morigin, extent\u001b[38;5;241m=\u001b[39mextent,\n\u001b[0;32m   2656\u001b[0m         interpolation_stage\u001b[38;5;241m=\u001b[39minterpolation_stage,\n\u001b[0;32m   2657\u001b[0m         filternorm\u001b[38;5;241m=\u001b[39mfilternorm, filterrad\u001b[38;5;241m=\u001b[39mfilterrad, resample\u001b[38;5;241m=\u001b[39mresample,\n\u001b[0;32m   2658\u001b[0m         url\u001b[38;5;241m=\u001b[39murl, \u001b[38;5;241m*\u001b[39m\u001b[38;5;241m*\u001b[39m({\u001b[38;5;124m\"\u001b[39m\u001b[38;5;124mdata\u001b[39m\u001b[38;5;124m\"\u001b[39m: data} \u001b[38;5;28;01mif\u001b[39;00m data \u001b[38;5;129;01mis\u001b[39;00m \u001b[38;5;129;01mnot\u001b[39;00m \u001b[38;5;28;01mNone\u001b[39;00m \u001b[38;5;28;01melse\u001b[39;00m {}),\n\u001b[0;32m   2659\u001b[0m         \u001b[38;5;241m*\u001b[39m\u001b[38;5;241m*\u001b[39mkwargs)\n\u001b[0;32m   2660\u001b[0m     sci(__ret)\n\u001b[0;32m   2661\u001b[0m     \u001b[38;5;28;01mreturn\u001b[39;00m __ret\n",
      "File \u001b[1;32m~\\.conda\\envs\\cuda\\lib\\site-packages\\matplotlib\\_api\\deprecation.py:459\u001b[0m, in \u001b[0;36mmake_keyword_only.<locals>.wrapper\u001b[1;34m(*args, **kwargs)\u001b[0m\n\u001b[0;32m    453\u001b[0m \u001b[38;5;28;01mif\u001b[39;00m \u001b[38;5;28mlen\u001b[39m(args) \u001b[38;5;241m>\u001b[39m name_idx:\n\u001b[0;32m    454\u001b[0m     warn_deprecated(\n\u001b[0;32m    455\u001b[0m         since, message\u001b[38;5;241m=\u001b[39m\u001b[38;5;124m\"\u001b[39m\u001b[38;5;124mPassing the \u001b[39m\u001b[38;5;132;01m%(name)s\u001b[39;00m\u001b[38;5;124m \u001b[39m\u001b[38;5;132;01m%(obj_type)s\u001b[39;00m\u001b[38;5;124m \u001b[39m\u001b[38;5;124m\"\u001b[39m\n\u001b[0;32m    456\u001b[0m         \u001b[38;5;124m\"\u001b[39m\u001b[38;5;124mpositionally is deprecated since Matplotlib \u001b[39m\u001b[38;5;132;01m%(since)s\u001b[39;00m\u001b[38;5;124m; the \u001b[39m\u001b[38;5;124m\"\u001b[39m\n\u001b[0;32m    457\u001b[0m         \u001b[38;5;124m\"\u001b[39m\u001b[38;5;124mparameter will become keyword-only \u001b[39m\u001b[38;5;132;01m%(removal)s\u001b[39;00m\u001b[38;5;124m.\u001b[39m\u001b[38;5;124m\"\u001b[39m,\n\u001b[0;32m    458\u001b[0m         name\u001b[38;5;241m=\u001b[39mname, obj_type\u001b[38;5;241m=\u001b[39m\u001b[38;5;124mf\u001b[39m\u001b[38;5;124m\"\u001b[39m\u001b[38;5;124mparameter of \u001b[39m\u001b[38;5;132;01m{\u001b[39;00mfunc\u001b[38;5;241m.\u001b[39m\u001b[38;5;18m__name__\u001b[39m\u001b[38;5;132;01m}\u001b[39;00m\u001b[38;5;124m()\u001b[39m\u001b[38;5;124m\"\u001b[39m)\n\u001b[1;32m--> 459\u001b[0m \u001b[38;5;28;01mreturn\u001b[39;00m func(\u001b[38;5;241m*\u001b[39margs, \u001b[38;5;241m*\u001b[39m\u001b[38;5;241m*\u001b[39mkwargs)\n",
      "File \u001b[1;32m~\\.conda\\envs\\cuda\\lib\\site-packages\\matplotlib\\__init__.py:1412\u001b[0m, in \u001b[0;36m_preprocess_data.<locals>.inner\u001b[1;34m(ax, data, *args, **kwargs)\u001b[0m\n\u001b[0;32m   1409\u001b[0m \u001b[38;5;129m@functools\u001b[39m\u001b[38;5;241m.\u001b[39mwraps(func)\n\u001b[0;32m   1410\u001b[0m \u001b[38;5;28;01mdef\u001b[39;00m \u001b[38;5;21minner\u001b[39m(ax, \u001b[38;5;241m*\u001b[39margs, data\u001b[38;5;241m=\u001b[39m\u001b[38;5;28;01mNone\u001b[39;00m, \u001b[38;5;241m*\u001b[39m\u001b[38;5;241m*\u001b[39mkwargs):\n\u001b[0;32m   1411\u001b[0m     \u001b[38;5;28;01mif\u001b[39;00m data \u001b[38;5;129;01mis\u001b[39;00m \u001b[38;5;28;01mNone\u001b[39;00m:\n\u001b[1;32m-> 1412\u001b[0m         \u001b[38;5;28;01mreturn\u001b[39;00m func(ax, \u001b[38;5;241m*\u001b[39m\u001b[38;5;28mmap\u001b[39m(sanitize_sequence, args), \u001b[38;5;241m*\u001b[39m\u001b[38;5;241m*\u001b[39mkwargs)\n\u001b[0;32m   1414\u001b[0m     bound \u001b[38;5;241m=\u001b[39m new_sig\u001b[38;5;241m.\u001b[39mbind(ax, \u001b[38;5;241m*\u001b[39margs, \u001b[38;5;241m*\u001b[39m\u001b[38;5;241m*\u001b[39mkwargs)\n\u001b[0;32m   1415\u001b[0m     auto_label \u001b[38;5;241m=\u001b[39m (bound\u001b[38;5;241m.\u001b[39marguments\u001b[38;5;241m.\u001b[39mget(label_namer)\n\u001b[0;32m   1416\u001b[0m                   \u001b[38;5;129;01mor\u001b[39;00m bound\u001b[38;5;241m.\u001b[39mkwargs\u001b[38;5;241m.\u001b[39mget(label_namer))\n",
      "File \u001b[1;32m~\\.conda\\envs\\cuda\\lib\\site-packages\\matplotlib\\axes\\_axes.py:5481\u001b[0m, in \u001b[0;36mAxes.imshow\u001b[1;34m(self, X, cmap, norm, aspect, interpolation, alpha, vmin, vmax, origin, extent, interpolation_stage, filternorm, filterrad, resample, url, **kwargs)\u001b[0m\n\u001b[0;32m   5474\u001b[0m \u001b[38;5;28mself\u001b[39m\u001b[38;5;241m.\u001b[39mset_aspect(aspect)\n\u001b[0;32m   5475\u001b[0m im \u001b[38;5;241m=\u001b[39m mimage\u001b[38;5;241m.\u001b[39mAxesImage(\u001b[38;5;28mself\u001b[39m, cmap, norm, interpolation,\n\u001b[0;32m   5476\u001b[0m                       origin, extent, filternorm\u001b[38;5;241m=\u001b[39mfilternorm,\n\u001b[0;32m   5477\u001b[0m                       filterrad\u001b[38;5;241m=\u001b[39mfilterrad, resample\u001b[38;5;241m=\u001b[39mresample,\n\u001b[0;32m   5478\u001b[0m                       interpolation_stage\u001b[38;5;241m=\u001b[39minterpolation_stage,\n\u001b[0;32m   5479\u001b[0m                       \u001b[38;5;241m*\u001b[39m\u001b[38;5;241m*\u001b[39mkwargs)\n\u001b[1;32m-> 5481\u001b[0m \u001b[43mim\u001b[49m\u001b[38;5;241;43m.\u001b[39;49m\u001b[43mset_data\u001b[49m\u001b[43m(\u001b[49m\u001b[43mX\u001b[49m\u001b[43m)\u001b[49m\n\u001b[0;32m   5482\u001b[0m im\u001b[38;5;241m.\u001b[39mset_alpha(alpha)\n\u001b[0;32m   5483\u001b[0m \u001b[38;5;28;01mif\u001b[39;00m im\u001b[38;5;241m.\u001b[39mget_clip_path() \u001b[38;5;129;01mis\u001b[39;00m \u001b[38;5;28;01mNone\u001b[39;00m:\n\u001b[0;32m   5484\u001b[0m     \u001b[38;5;66;03m# image does not already have clipping set, clip to axes patch\u001b[39;00m\n",
      "File \u001b[1;32m~\\.conda\\envs\\cuda\\lib\\site-packages\\matplotlib\\image.py:715\u001b[0m, in \u001b[0;36m_ImageBase.set_data\u001b[1;34m(self, A)\u001b[0m\n\u001b[0;32m    711\u001b[0m     \u001b[38;5;28mself\u001b[39m\u001b[38;5;241m.\u001b[39m_A \u001b[38;5;241m=\u001b[39m \u001b[38;5;28mself\u001b[39m\u001b[38;5;241m.\u001b[39m_A[:, :, \u001b[38;5;241m0\u001b[39m]\n\u001b[0;32m    713\u001b[0m \u001b[38;5;28;01mif\u001b[39;00m \u001b[38;5;129;01mnot\u001b[39;00m (\u001b[38;5;28mself\u001b[39m\u001b[38;5;241m.\u001b[39m_A\u001b[38;5;241m.\u001b[39mndim \u001b[38;5;241m==\u001b[39m \u001b[38;5;241m2\u001b[39m\n\u001b[0;32m    714\u001b[0m         \u001b[38;5;129;01mor\u001b[39;00m \u001b[38;5;28mself\u001b[39m\u001b[38;5;241m.\u001b[39m_A\u001b[38;5;241m.\u001b[39mndim \u001b[38;5;241m==\u001b[39m \u001b[38;5;241m3\u001b[39m \u001b[38;5;129;01mand\u001b[39;00m \u001b[38;5;28mself\u001b[39m\u001b[38;5;241m.\u001b[39m_A\u001b[38;5;241m.\u001b[39mshape[\u001b[38;5;241m-\u001b[39m\u001b[38;5;241m1\u001b[39m] \u001b[38;5;129;01min\u001b[39;00m [\u001b[38;5;241m3\u001b[39m, \u001b[38;5;241m4\u001b[39m]):\n\u001b[1;32m--> 715\u001b[0m     \u001b[38;5;28;01mraise\u001b[39;00m \u001b[38;5;167;01mTypeError\u001b[39;00m(\u001b[38;5;124m\"\u001b[39m\u001b[38;5;124mInvalid shape \u001b[39m\u001b[38;5;132;01m{}\u001b[39;00m\u001b[38;5;124m for image data\u001b[39m\u001b[38;5;124m\"\u001b[39m\n\u001b[0;32m    716\u001b[0m                     \u001b[38;5;241m.\u001b[39mformat(\u001b[38;5;28mself\u001b[39m\u001b[38;5;241m.\u001b[39m_A\u001b[38;5;241m.\u001b[39mshape))\n\u001b[0;32m    718\u001b[0m \u001b[38;5;28;01mif\u001b[39;00m \u001b[38;5;28mself\u001b[39m\u001b[38;5;241m.\u001b[39m_A\u001b[38;5;241m.\u001b[39mndim \u001b[38;5;241m==\u001b[39m \u001b[38;5;241m3\u001b[39m:\n\u001b[0;32m    719\u001b[0m     \u001b[38;5;66;03m# If the input data has values outside the valid range (after\u001b[39;00m\n\u001b[0;32m    720\u001b[0m     \u001b[38;5;66;03m# normalisation), we issue a warning and then clip X to the bounds\u001b[39;00m\n\u001b[0;32m    721\u001b[0m     \u001b[38;5;66;03m# - otherwise casting wraps extreme values, hiding outliers and\u001b[39;00m\n\u001b[0;32m    722\u001b[0m     \u001b[38;5;66;03m# making reliable interpretation impossible.\u001b[39;00m\n\u001b[0;32m    723\u001b[0m     high \u001b[38;5;241m=\u001b[39m \u001b[38;5;241m255\u001b[39m \u001b[38;5;28;01mif\u001b[39;00m np\u001b[38;5;241m.\u001b[39missubdtype(\u001b[38;5;28mself\u001b[39m\u001b[38;5;241m.\u001b[39m_A\u001b[38;5;241m.\u001b[39mdtype, np\u001b[38;5;241m.\u001b[39minteger) \u001b[38;5;28;01melse\u001b[39;00m \u001b[38;5;241m1\u001b[39m\n",
      "\u001b[1;31mTypeError\u001b[0m: Invalid shape (1, 28, 28) for image data"
     ]
    },
    {
     "data": {
      "image/png": "[encoded data removed]",
      "text/plain": [
       "<Figure size 640x480 with 1 Axes>"
      ]
     },
     "metadata": {},
     "output_type": "display_data"
    }
   ],
   "source": [
    "# matplotlib expect the image input in HxWxC but pyTorch reads the image as CxHxW\n",
    "image, label = train_data[1]\n",
    "plt.imshow(image)"
   ]
  },
  {
   "cell_type": "code",
   "execution_count": 9,
   "id": "b79ec7a8",
   "metadata": {},
   "outputs": [
    {
     "data": {
      "image/png": "[encoded data removed]",
      "text/plain": [
       "<Figure size 640x480 with 1 Axes>"
      ]
     },
     "metadata": {},
     "output_type": "display_data"
    }
   ],
   "source": [
    "# right way to plot the image using matplotlib\n",
    "plt.imshow(torch.permute(image,(2,1,0)), cmap=\"gray\")\n",
    "plt.show()"
   ]
  },
  {
   "cell_type": "code",
   "execution_count": 10,
   "id": "00acbbfd",
   "metadata": {},
   "outputs": [
    {
     "data": {
      "image/png": "[encoded data removed]",
      "text/plain": [
       "<Figure size 900x900 with 16 Axes>"
      ]
     },
     "metadata": {},
     "output_type": "display_data"
    }
   ],
   "source": [
    "# plot more images at random order\n",
    "torch.manual_seed(42)\n",
    "fig = plt.figure(figsize=(9,9))\n",
    "rows, cols = 4,4\n",
    "for i in range(1, rows*cols+1):\n",
    "    random_idx = torch.randint(0, len(train_data), size=[1]).item()\n",
    "    img, label = train_data[random_idx]\n",
    "    fig.add_subplot(rows, cols, i)\n",
    "    plt.imshow(img.squeeze(), cmap='gray')\n",
    "    plt.axis(False)\n",
    "    \n",
    "    "
   ]
  },
  {
   "cell_type": "code",
   "execution_count": 11,
   "id": "468c50b8",
   "metadata": {},
   "outputs": [
    {
     "data": {
      "text/plain": [
       "(Dataset FashionMNIST\n",
       "     Number of datapoints: 60000\n",
       "     Root location: data\n",
       "     Split: Train\n",
       "     StandardTransform\n",
       " Transform: ToTensor(),\n",
       " Dataset FashionMNIST\n",
       "     Number of datapoints: 10000\n",
       "     Root location: data\n",
       "     Split: Test\n",
       "     StandardTransform\n",
       " Transform: ToTensor())"
      ]
     },
     "execution_count": 11,
     "metadata": {},
     "output_type": "execute_result"
    }
   ],
   "source": [
    "train_data, test_data"
   ]
  },
  {
   "cell_type": "markdown",
   "id": "7ed59540",
   "metadata": {},
   "source": [
    "## Prepare the Dataloader\n",
    "\n",
    "**Why we need this**\n",
    "* Right now, our data is in the form of PyTorch Datasets\n",
    "* Dataloader turns our dataset into a Python iterable\n",
    "* We want to turn our data into batches (mini-batches)\n",
    "* **`Documentation`**: https://pytorch.org/docs/stable/data.html"
   ]
  },
  {
   "cell_type": "code",
   "execution_count": 12,
   "id": "53d1671c",
   "metadata": {},
   "outputs": [
    {
     "data": {
      "text/plain": [
       "(<torch.utils.data.dataloader.DataLoader at 0x21c8f577340>,\n",
       " <torch.utils.data.dataloader.DataLoader at 0x21c8f576d40>)"
      ]
     },
     "execution_count": 12,
     "metadata": {},
     "output_type": "execute_result"
    }
   ],
   "source": [
    "from torch.utils.data import DataLoader\n",
    "\n",
    "# setup the batch size\n",
    "BATCH_SIZE = 32\n",
    "\n",
    "# turn dataset into python iterable(batches)\n",
    "train_dataloader = DataLoader(dataset=train_data,\n",
    "                              batch_size=BATCH_SIZE,\n",
    "                              shuffle=True)\n",
    "\n",
    "test_dataloader = DataLoader(dataset=test_data,\n",
    "                             batch_size=BATCH_SIZE,\n",
    "                             shuffle=False)           # its good/easy of test data is not shuffled\n",
    "train_dataloader, test_dataloader                     # instances of the dataloader"
   ]
  },
  {
   "cell_type": "code",
   "execution_count": 13,
   "id": "e1ee137e",
   "metadata": {},
   "outputs": [
    {
     "data": {
      "text/plain": [
       "Dataset FashionMNIST\n",
       "    Number of datapoints: 60000\n",
       "    Root location: data\n",
       "    Split: Train\n",
       "    StandardTransform\n",
       "Transform: ToTensor()"
      ]
     },
     "execution_count": 13,
     "metadata": {},
     "output_type": "execute_result"
    }
   ],
   "source": [
    "train_dataloader.dataset"
   ]
  },
  {
   "cell_type": "code",
   "execution_count": 14,
   "id": "d1f60494",
   "metadata": {},
   "outputs": [
    {
     "name": "stdout",
     "output_type": "stream",
     "text": [
      "Length of train_dataloaders: 1875 batches of 32\n",
      "Length of test_dataloaders: 313 batches of 32\n"
     ]
    }
   ],
   "source": [
    "# checkout how many batches of 32 size has been formed\n",
    "print(f\"Length of train_dataloaders: {len(train_dataloader)} batches of {BATCH_SIZE}\")\n",
    "print(f\"Length of test_dataloaders: {len(test_dataloader)} batches of {BATCH_SIZE}\")"
   ]
  },
  {
   "cell_type": "code",
   "execution_count": 15,
   "id": "b02e5734",
   "metadata": {},
   "outputs": [
    {
     "data": {
      "text/plain": [
       "(torch.Size([32, 1, 28, 28]), torch.Size([32]))"
      ]
     },
     "execution_count": 15,
     "metadata": {},
     "output_type": "execute_result"
    }
   ],
   "source": [
    "# checkout the first batch of the dataloaders\n",
    "train_features_batch, train_labels_batch = next(iter(train_dataloader))\n",
    "train_features_batch.shape, train_labels_batch.shape"
   ]
  },
  {
   "cell_type": "markdown",
   "id": "46f5727e",
   "metadata": {},
   "source": [
    "## Visualize the Batch"
   ]
  },
  {
   "cell_type": "code",
   "execution_count": 16,
   "id": "05edc9c7",
   "metadata": {},
   "outputs": [
    {
     "name": "stdout",
     "output_type": "stream",
     "text": [
      "Image Size: torch.Size([1, 28, 28])\n",
      "Label: 8, label size: torch.Size([])\n"
     ]
    },
    {
     "data": {
      "image/png": "[encoded data removed]",
      "text/plain": [
       "<Figure size 640x480 with 1 Axes>"
      ]
     },
     "metadata": {},
     "output_type": "display_data"
    }
   ],
   "source": [
    "random_idx = torch.randint(0, len(train_features_batch), size=[1]).item()\n",
    "img, label = train_features_batch[random_idx], train_labels_batch[random_idx]\n",
    "plt.imshow(img.squeeze(), cmap=\"gray\")\n",
    "plt.title(class_names[label])\n",
    "print(f\"Image Size: {img.shape}\")\n",
    "print(f\"Label: {label}, label size: {label.shape}\")\n"
   ]
  },
  {
   "cell_type": "markdown",
   "id": "f217ec10",
   "metadata": {},
   "source": [
    "## Build a baseline Model"
   ]
  },
  {
   "cell_type": "markdown",
   "id": "53772d45",
   "metadata": {},
   "source": [
    "### understanding the concept of flatten layer\n",
    "* In baseline model we are going to use the linear layer, which can't handle thet multidimensional data, hence we are converting into single vector"
   ]
  },
  {
   "cell_type": "code",
   "execution_count": 17,
   "id": "c45f3978",
   "metadata": {},
   "outputs": [
    {
     "name": "stdout",
     "output_type": "stream",
     "text": [
      "Shape before flattening: torch.Size([1, 28, 28])\n",
      "Shape after flattening: torch.Size([1, 784])\n"
     ]
    }
   ],
   "source": [
    "# create a flatten layer\n",
    "flatten_model = nn.Flatten()              # nn.Flatten() can be used as model\n",
    "\n",
    "# get sample from train data\n",
    "sample = train_features_batch[0]\n",
    "\n",
    "# Flatten the sample\n",
    "flattened_sample = flatten_model(sample) # performing the forward pass\n",
    "\n",
    "# print out result\n",
    "print(f\"Shape before flattening: {sample.shape}\")\n",
    "print(f\"Shape after flattening: {flattened_sample.shape}\")  # [color channel, height, width]"
   ]
  },
  {
   "cell_type": "code",
   "execution_count": 18,
   "id": "fdf0063f",
   "metadata": {},
   "outputs": [
    {
     "data": {
      "text/plain": [
       "FashionMNIST(\n",
       "  (layers): Sequential(\n",
       "    (0): Flatten(start_dim=1, end_dim=-1)\n",
       "    (1): Linear(in_features=784, out_features=10, bias=True)\n",
       "    (2): Linear(in_features=10, out_features=10, bias=True)\n",
       "  )\n",
       ")"
      ]
     },
     "execution_count": 18,
     "metadata": {},
     "output_type": "execute_result"
    }
   ],
   "source": [
    "# build the model\n",
    "class FashionMNIST(nn.Module):\n",
    "    \"\"\"Initialize the FashionMNIST muti-class classification model\n",
    "    \n",
    "    Args:\n",
    "        input_features(int): Number of input features to the model\n",
    "        output_features(int): Number of output features by the model\n",
    "        hidden_units(int): Number of hidden units between the layers\n",
    "    \n",
    "    \"\"\"\n",
    "    def __init__(self,\n",
    "                 input_features: int,\n",
    "                 output_features: int,\n",
    "                 hidden_units: int):\n",
    "        super().__init__()\n",
    "        self.layers = nn.Sequential(\n",
    "            nn.Flatten(),      # in order to pass the data into linear layer\n",
    "            nn.Linear(in_features=input_features, out_features=hidden_units),\n",
    "            nn.Linear(in_features=hidden_units, out_features=output_features),\n",
    "            )\n",
    "    \n",
    "    # over-ride the forward method\n",
    "    def forward(self, x:torch.Tensor)->torch.Tensor:\n",
    "        return self.layers(x) \n",
    "\n",
    "modelbase = FashionMNIST(input_features=784,        # 28x28\n",
    "                         output_features=10,        # ten output classes in datasets\n",
    "                         hidden_units=10).to(\"cpu\")   \n",
    "\n",
    "modelbase"
   ]
  },
  {
   "cell_type": "code",
   "execution_count": 19,
   "id": "78645462",
   "metadata": {},
   "outputs": [
    {
     "data": {
      "text/plain": [
       "OrderedDict([('layers.1.weight',\n",
       "              tensor([[-0.0042, -0.0145,  0.0237,  ..., -0.0319,  0.0206, -0.0111],\n",
       "                      [-0.0272,  0.0052,  0.0173,  ...,  0.0023,  0.0029,  0.0097],\n",
       "                      [ 0.0272, -0.0169,  0.0213,  ...,  0.0307, -0.0014, -0.0287],\n",
       "                      ...,\n",
       "                      [-0.0101, -0.0093,  0.0068,  ..., -0.0126, -0.0139, -0.0208],\n",
       "                      [-0.0275,  0.0082,  0.0330,  ...,  0.0330,  0.0033,  0.0030],\n",
       "                      [-0.0047, -0.0345,  0.0140,  ...,  0.0228,  0.0321, -0.0169]])),\n",
       "             ('layers.1.bias',\n",
       "              tensor([ 0.0152, -0.0084,  0.0227, -0.0054, -0.0284, -0.0354, -0.0013,  0.0105,\n",
       "                      -0.0211,  0.0281])),\n",
       "             ('layers.2.weight',\n",
       "              tensor([[ 0.1500,  0.1907,  0.1457, -0.3050, -0.0580,  0.1643,  0.1565, -0.2877,\n",
       "                       -0.1792,  0.2305],\n",
       "                      [-0.2618,  0.2397, -0.0610,  0.0232,  0.1542,  0.0851, -0.2027,  0.1030,\n",
       "                       -0.2715, -0.1596],\n",
       "                      [-0.0555, -0.0633,  0.2302, -0.1726,  0.2654,  0.1473,  0.1029,  0.2252,\n",
       "                       -0.2160, -0.2725],\n",
       "                      [ 0.0118,  0.1559,  0.1596,  0.0132,  0.3024,  0.1124,  0.1366, -0.1533,\n",
       "                        0.0965, -0.1184],\n",
       "                      [-0.2555, -0.2057, -0.1909, -0.0477, -0.1324,  0.2905,  0.1307, -0.2629,\n",
       "                        0.0133,  0.2727],\n",
       "                      [-0.0127,  0.0513,  0.0863, -0.1043, -0.2047, -0.1185, -0.0825,  0.2488,\n",
       "                       -0.2571,  0.0425],\n",
       "                      [-0.1209, -0.0336, -0.0281, -0.1227,  0.0730,  0.0747, -0.1816,  0.1943,\n",
       "                        0.2853, -0.1310],\n",
       "                      [ 0.0645, -0.1171,  0.2168, -0.0245, -0.2820,  0.0736,  0.2621,  0.0012,\n",
       "                       -0.0810, -0.0087],\n",
       "                      [ 0.1791,  0.2712, -0.0791,  0.1685,  0.1762,  0.2825,  0.2266, -0.2612,\n",
       "                       -0.2613, -0.2624],\n",
       "                      [ 0.1987, -0.1606,  0.1747, -0.0471, -0.1303,  0.2380, -0.0611, -0.1707,\n",
       "                       -0.0485, -0.2011]])),\n",
       "             ('layers.2.bias',\n",
       "              tensor([-0.3045, -0.0554, -0.0178, -0.1802,  0.2803, -0.0706, -0.0803,  0.2506,\n",
       "                       0.0352, -0.0744]))])"
      ]
     },
     "execution_count": 19,
     "metadata": {},
     "output_type": "execute_result"
    }
   ],
   "source": [
    "modelbase.state_dict()     # checking the model parameters"
   ]
  },
  {
   "cell_type": "markdown",
   "id": "8b82c7b3",
   "metadata": {},
   "source": [
    "### Downloading the python script from github using code\n",
    "* **import accuracy helper function**"
   ]
  },
  {
   "cell_type": "code",
   "execution_count": 20,
   "id": "60deb570",
   "metadata": {},
   "outputs": [
    {
     "name": "stdout",
     "output_type": "stream",
     "text": [
      "helper_funtions.py already exits, skipping download.....\n"
     ]
    }
   ],
   "source": [
    "import requests\n",
    "from pathlib import Path\n",
    "\n",
    "# downloade helper functions from gitub repo\n",
    "if Path(\"helper_funtions.py\").is_file():\n",
    "    print(\"helper_funtions.py already exits, skipping download.....\")\n",
    "else:\n",
    "    print(\"Downloading helper_funtions.py\")\n",
    "    request = requests.get(\"https://raw.githubusercontent.com/mrdbourke/pytorch-deep-learning/main/helper_functions.py\")\n",
    "    with open(\"helper_funtions.py\", \"wb\") as f:\n",
    "        f.write(request.content)"
   ]
  },
  {
   "cell_type": "code",
   "execution_count": 21,
   "id": "8fb714b4",
   "metadata": {},
   "outputs": [],
   "source": [
    "from helper_funtions import accuracy_fn"
   ]
  },
  {
   "cell_type": "code",
   "execution_count": 22,
   "id": "4276a306",
   "metadata": {},
   "outputs": [],
   "source": [
    "# setup the loss function\n",
    "loss_fn = nn.CrossEntropyLoss()\n",
    "\n",
    "# setup an optimizer\n",
    "optimizer = torch.optim.SGD(params=modelbase.parameters(), \n",
    "                            lr = 0.1)"
   ]
  },
  {
   "cell_type": "markdown",
   "id": "a14940ff",
   "metadata": {},
   "source": [
    "### Creating a function to time our experiments"
   ]
  },
  {
   "cell_type": "code",
   "execution_count": 23,
   "id": "7113234e",
   "metadata": {},
   "outputs": [],
   "source": [
    "from timeit import default_timer as timer\n",
    "\n",
    "def print_train_time(start:float,\n",
    "                     end:float,\n",
    "                     device: torch.device = None):\n",
    "    \"\"\"Prints difference between start and end time\"\"\"\n",
    "    \n",
    "    total_time = end - start\n",
    "    print(f\"Train time on {device} : {total_time:.3f} seconds\")\n",
    "    return total_time"
   ]
  },
  {
   "cell_type": "markdown",
   "id": "f363012d",
   "metadata": {},
   "source": [
    "## Creating a training loop and training model on batches of data\n",
    "**Steps:**\n",
    "* Loop through batches\n",
    "* Loop through training batches, perform training steps, calculate train loss per batch.\n",
    "* Loop through testing batches, perform testing steps, calculate test loss per batch.\n",
    "* Print out the stats"
   ]
  },
  {
   "cell_type": "code",
   "execution_count": 110,
   "id": "47851ed3",
   "metadata": {},
   "outputs": [
    {
     "data": {
      "application/vnd.jupyter.widget-view+json": {
       "model_id": "006f77eb8a884dc9bb705a67a9762174",
       "version_major": 2,
       "version_minor": 0
      },
      "text/plain": [
       "  0%|          | 0/3 [00:00<?, ?it/s]"
      ]
     },
     "metadata": {},
     "output_type": "display_data"
    },
    {
     "name": "stdout",
     "output_type": "stream",
     "text": [
      "Epoch: 1\n",
      "-----\n",
      "Looked at 0/60000 samples.\n",
      "Looked at 12800/60000 samples.\n",
      "Looked at 25600/60000 samples.\n",
      "Looked at 38400/60000 samples.\n",
      "Looked at 51200/60000 samples.\n",
      "\n",
      "Train Loss: 0.4319 | Test Loss: 0.4790, Test acc 83.4764\n",
      "Epoch: 2\n",
      "-----\n",
      "Looked at 0/60000 samples.\n",
      "Looked at 12800/60000 samples.\n",
      "Looked at 25600/60000 samples.\n",
      "Looked at 38400/60000 samples.\n",
      "Looked at 51200/60000 samples.\n",
      "\n",
      "Train Loss: 0.4319 | Test Loss: 0.4790, Test acc 83.4764\n",
      "Epoch: 3\n",
      "-----\n",
      "Looked at 0/60000 samples.\n",
      "Looked at 12800/60000 samples.\n",
      "Looked at 25600/60000 samples.\n",
      "Looked at 38400/60000 samples.\n",
      "Looked at 51200/60000 samples.\n",
      "\n",
      "Train Loss: 0.4319 | Test Loss: 0.4790, Test acc 83.4764\n",
      "Train time on cpu : 28.477 seconds\n"
     ]
    },
    {
     "data": {
      "text/plain": [
       "28.477369099999123"
      ]
     },
     "execution_count": 110,
     "metadata": {},
     "output_type": "execute_result"
    }
   ],
   "source": [
    "# import the tqdm for progress bar\n",
    "from tqdm.auto import tqdm\n",
    "\n",
    "# set the seed and start time\n",
    "train_start_time_cpu = timer()\n",
    "torch.manual_seed(42)\n",
    "torch.cuda.manual_seed(42)\n",
    "\n",
    "# set the no of epochs\n",
    "epochs = 3\n",
    "\n",
    "# create a training loop\n",
    "for epoch in tqdm(range(epochs)):\n",
    "    print(f\"Epoch: {epoch+1}\\n-----\")\n",
    "    \n",
    "    ## start the training mode\n",
    "    train_loss = 0\n",
    "    \n",
    "    ## add loop to loop through the training batches\n",
    "    for batch, (X,y) in enumerate(train_dataloader):\n",
    "        ## set the model on training mode\n",
    "        modelbase.train()\n",
    "        \n",
    "        ## forward passs\n",
    "        y_pred = modelbase(X)\n",
    "        \n",
    "        ## calculate the loss(per batch)\n",
    "        loss = loss_fn(y_pred, y)\n",
    "        train_loss += loss               # accumulating the training loss\n",
    "        \n",
    "        ## zero-out the gradient\n",
    "        optimizer.zero_grad()\n",
    "        \n",
    "        ## backpropagation\n",
    "        loss.backward()\n",
    "        \n",
    "        ## optimizer step\n",
    "        optimizer.step()\n",
    "        \n",
    "        ## print out stats per batch\n",
    "        \n",
    "        if batch % 400 == 0:\n",
    "            print(f\"Looked at {batch*len(X)}/{len(train_dataloader.dataset)} samples.\")\n",
    "            \n",
    "    # Divide the total train_loss by length of train dataloader (no of batches)\n",
    "    train_loss = train_loss/ len(train_dataloader)         # average loss per epoch\n",
    "    \n",
    "    \n",
    "    ## Testing loop \n",
    "    test_loss, test_acc = 0,0\n",
    "    \n",
    "    # set the model on eval() mode\n",
    "    modelbase.eval()\n",
    "    \n",
    "    # turn on the inference mode\n",
    "    with torch.inference_mode():\n",
    "        # loop through images, labels in test_dataloader\n",
    "        for X_test,y_test in test_dataloader:\n",
    "            ## do the forward pass\n",
    "            test_pred = modelbase(X_test)\n",
    "            \n",
    "            ## calculate the testing loss\n",
    "            test_loss += loss_fn(test_pred, y_test)\n",
    "            \n",
    "            ## calculate the accuracy\n",
    "            test_acc += accuracy_fn(y_true=y_test, y_pred=test_pred.argmax(dim=1))\n",
    "            \n",
    "         ## calculate the test loss average per batch\n",
    "        test_loss = test_loss/ len(test_dataloader)\n",
    "        \n",
    "        ## calculate the test acc average per batch\n",
    "        test_acc = test_acc/ len(test_dataloader)\n",
    "    \n",
    "    ## print out the training and testing stats\n",
    "    print(f\"\\nTrain Loss: {train_loss:.4f} | Test Loss: {test_loss:.4f}, Test acc {test_acc:.4f}\" )\n",
    "        \n",
    "                 \n",
    "train_time_end_cpu = timer()\n",
    "total_train_time_model_cpu= print_train_time(start=train_start_time_cpu, \n",
    "                       end=train_time_end_cpu, \n",
    "                       device=str(next(modelbase.parameters()).device))\n",
    "total_train_time_model_cpu"
   ]
  },
  {
   "cell_type": "markdown",
   "id": "2306c871",
   "metadata": {},
   "source": [
    "## Make predication and  evaluate a model"
   ]
  },
  {
   "cell_type": "code",
   "execution_count": 42,
   "id": "049aa8fd",
   "metadata": {},
   "outputs": [],
   "source": [
    "torch.manual_seed(42)\n",
    "def eval_model(model: torch.nn.Module, \n",
    "               data_loader: torch.utils.data.dataloader,\n",
    "               loss_fn: torch.nn.Module,\n",
    "               accuracy_fn):\n",
    "    \"\"\"Returns a dictionary containing the results of model predicting on data_loader.\"\"\"\n",
    "    \n",
    "    loss, acc = 0, 0\n",
    "    #set the model on eval mode\n",
    "    model.eval()\n",
    "     \n",
    "    \n",
    "    # turn on the inference mode\n",
    "    with torch.inference_mode():\n",
    "        for X,y in tqdm(data_loader):\n",
    "            # Make our data device agnostic\n",
    "            X, y = X.to(device), y.to(device)\n",
    "            # make predications-forward pass\n",
    "            y_pred = model(X)\n",
    "            \n",
    "            # accumulate the test loss and accuracy per batch\n",
    "            loss += loss_fn(y_pred,y)\n",
    "            acc += accuracy_fn(y_true = y, y_pred = y_pred.argmax(dim=1))\n",
    "        \n",
    "        # Find the average loss\n",
    "        loss = loss/len(data_loader)\n",
    "        acc = acc/len(data_loader)\n",
    "    \n",
    "    return {\"model_name\": model.__class__.__name__, \n",
    "            \"model_loss\": loss.item(),\n",
    "            \"model_acc\": acc}   "
   ]
  },
  {
   "cell_type": "code",
   "execution_count": 26,
   "id": "8b6ae926",
   "metadata": {},
   "outputs": [
    {
     "data": {
      "application/vnd.jupyter.widget-view+json": {
       "model_id": "7e271e0cf98f453ebc89648227cd877b",
       "version_major": 2,
       "version_minor": 0
      },
      "text/plain": [
       "  0%|          | 0/313 [00:00<?, ?it/s]"
      ]
     },
     "metadata": {},
     "output_type": "display_data"
    }
   ],
   "source": [
    "# calculate the modelbase results\n",
    "modelbase_results = eval_model(model=modelbase, \n",
    "                               data_loader=test_dataloader, \n",
    "                               loss_fn=loss_fn, \n",
    "                               accuracy_fn=accuracy_fn)"
   ]
  },
  {
   "cell_type": "code",
   "execution_count": 27,
   "id": "346fd78c",
   "metadata": {},
   "outputs": [
    {
     "data": {
      "text/plain": [
       "{'model_name': 'FashionMNIST',\n",
       " 'model_loss': 0.47896072268486023,\n",
       " 'model_acc': 83.47643769968052}"
      ]
     },
     "execution_count": 27,
     "metadata": {},
     "output_type": "execute_result"
    }
   ],
   "source": [
    "modelbase_results"
   ]
  },
  {
   "cell_type": "markdown",
   "id": "10733324",
   "metadata": {},
   "source": [
    "## Setup the device agnostic code"
   ]
  },
  {
   "cell_type": "code",
   "execution_count": 28,
   "id": "cfe1fef9",
   "metadata": {},
   "outputs": [
    {
     "name": "stdout",
     "output_type": "stream",
     "text": [
      "Wed Oct  5 13:42:15 2022       \n",
      "+-----------------------------------------------------------------------------+\n",
      "| NVIDIA-SMI 512.78       Driver Version: 512.78       CUDA Version: 11.6     |\n",
      "|-------------------------------+----------------------+----------------------+\n",
      "| GPU  Name            TCC/WDDM | Bus-Id        Disp.A | Volatile Uncorr. ECC |\n",
      "| Fan  Temp  Perf  Pwr:Usage/Cap|         Memory-Usage | GPU-Util  Compute M. |\n",
      "|                               |                      |               MIG M. |\n",
      "|===============================+======================+======================|\n",
      "|   0  NVIDIA GeForce ... WDDM  | 00000000:01:00.0  On |                  N/A |\n",
      "| N/A   46C    P8     4W /  N/A |    282MiB /  4096MiB |      6%      Default |\n",
      "|                               |                      |                  N/A |\n",
      "+-------------------------------+----------------------+----------------------+\n",
      "                                                                               \n",
      "+-----------------------------------------------------------------------------+\n",
      "| Processes:                                                                  |\n",
      "|  GPU   GI   CI        PID   Type   Process name                  GPU Memory |\n",
      "|        ID   ID                                                   Usage      |\n",
      "|=============================================================================|\n",
      "|    0   N/A  N/A     14304    C+G   ...mmandCenterBackground.exe    N/A      |\n",
      "|    0   N/A  N/A     14744    C+G   ...ightStudio-background.exe    N/A      |\n",
      "|    0   N/A  N/A     18608    C+G   ...ser\\Application\\brave.exe    N/A      |\n",
      "|    0   N/A  N/A     19412    C+G   ...6XXFWB44ZAJBOQQ\\DeepL.exe    N/A      |\n",
      "+-----------------------------------------------------------------------------+\n"
     ]
    }
   ],
   "source": [
    "!nvidia-smi"
   ]
  },
  {
   "cell_type": "code",
   "execution_count": 29,
   "id": "fee9feac",
   "metadata": {},
   "outputs": [
    {
     "data": {
      "text/plain": [
       "'cuda'"
      ]
     },
     "execution_count": 29,
     "metadata": {},
     "output_type": "execute_result"
    }
   ],
   "source": [
    "device = \"cuda\" if torch.cuda.is_available() else \"cpu\"\n",
    "device"
   ]
  },
  {
   "cell_type": "markdown",
   "id": "34b026de",
   "metadata": {},
   "source": [
    "## Build a Model using non-linearities and on GPU"
   ]
  },
  {
   "cell_type": "code",
   "execution_count": 30,
   "id": "39b101f0",
   "metadata": {},
   "outputs": [
    {
     "name": "stdout",
     "output_type": "stream",
     "text": [
      "FashionMNISTV1(\n",
      "  (layers): Sequential(\n",
      "    (0): Flatten(start_dim=1, end_dim=-1)\n",
      "    (1): Linear(in_features=784, out_features=10, bias=True)\n",
      "    (2): ReLU()\n",
      "    (3): Linear(in_features=10, out_features=10, bias=True)\n",
      "    (4): ReLU()\n",
      "  )\n",
      ")\n",
      "\n",
      "Model Device:cuda:0\n"
     ]
    }
   ],
   "source": [
    "class FashionMNISTV1(nn.Module):\n",
    "    \"\"\"Initialize the model FashionMNISTV1 for multi-class classification\n",
    "    \n",
    "    Args:\n",
    "        input_features(int): Number of input features to the model\n",
    "        output_features(int): Number of output features given by the model\n",
    "        hidden_units(int): Number of hidden units between the layers\n",
    "    \"\"\"\n",
    "    \n",
    "    def __init__(self, \n",
    "                 input_shape:int, \n",
    "                 output_shape:int, \n",
    "                 hidden_units:int):\n",
    "        super().__init__()\n",
    "        \n",
    "        ## define the model architecture\n",
    "        self.layers = nn.Sequential(\n",
    "            nn.Flatten(),\n",
    "            nn.Linear(in_features=input_shape, out_features=output_shape),\n",
    "            nn.ReLU(),\n",
    "            nn.Linear(in_features=hidden_units, out_features=output_shape),\n",
    "            nn.ReLU()\n",
    "            )\n",
    "    \n",
    "    ## over-ride the forward method\n",
    "    def forward(self, x:torch.Tensor)->torch.Tensor:\n",
    "        return self.layers(x)\n",
    "\n",
    "# create an object of the model\n",
    "modelv1 = FashionMNISTV1(input_shape=28*28,                # 28*28\n",
    "                         output_shape=10,                  # 10 output classes\n",
    "                         hidden_units=10).to(device)       # send the model to target device i.e \"cuda\" if available\n",
    "print(modelv1)\n",
    "print(f\"\\nModel Device:{next(modelv1.parameters()).device}\")"
   ]
  },
  {
   "cell_type": "code",
   "execution_count": 31,
   "id": "4d05332c",
   "metadata": {},
   "outputs": [],
   "source": [
    "# setup the loss function, optimizer\n",
    "from helper_funtions import accuracy_fn\n",
    "\n",
    "# loss funtion\n",
    "loss_fn = nn.CrossEntropyLoss()       # measure how wrong our model predication is w.r.t to target\n",
    "optimizer = torch.optim.SGD(params=modelv1.parameters(),  # optimise the model parameters using gradient method\n",
    "                            lr = 0.1)"
   ]
  },
  {
   "cell_type": "code",
   "execution_count": 32,
   "id": "0cc000c1",
   "metadata": {},
   "outputs": [
    {
     "name": "stdout",
     "output_type": "stream",
     "text": [
      "0\n",
      "32\n",
      "32\n"
     ]
    }
   ],
   "source": [
    "for batch , (X,y) in enumerate(train_dataloader):\n",
    "    print(batch)\n",
    "    print(len(X))\n",
    "    print(len(y))\n",
    "    break"
   ]
  },
  {
   "cell_type": "markdown",
   "id": "ef9f6579",
   "metadata": {},
   "source": [
    "## Functionizing training and testing loops"
   ]
  },
  {
   "cell_type": "markdown",
   "id": "eeb2789f",
   "metadata": {},
   "source": [
    "### Train_step():"
   ]
  },
  {
   "cell_type": "code",
   "execution_count": 33,
   "id": "3b3718d0",
   "metadata": {},
   "outputs": [
    {
     "data": {
      "text/plain": [
       "'cuda'"
      ]
     },
     "execution_count": 33,
     "metadata": {},
     "output_type": "execute_result"
    }
   ],
   "source": [
    "device\n"
   ]
  },
  {
   "cell_type": "code",
   "execution_count": 34,
   "id": "4c7e5ae4",
   "metadata": {},
   "outputs": [],
   "source": [
    "# function for training loop - train_step()\n",
    "def train_step(model: torch.nn.Module, \n",
    "               dataloader: torch.utils.data.dataloader,\n",
    "               loss_fn: torch.nn.Module,\n",
    "               optimizer: torch.optim.Optimizer,\n",
    "               accuracy_fn,\n",
    "               device: torch.device = device):\n",
    "    \"\"\"performs a training with model trying to learn on data_loaders\"\"\"\n",
    "    train_loss, train_acc = 0,0\n",
    "    \n",
    "    ## add a loop through the training batches of the train dataloaders\n",
    "    for batch, (X,y) in enumerate(dataloader):\n",
    "        ## set the model on train mode\n",
    "        model.train()\n",
    "        \n",
    "        # put the data on the target device\n",
    "        X, y = X.to(device), y.to(device)\n",
    "        \n",
    "        ## make predications using forward passs\n",
    "        y_pred = model(X)\n",
    "        \n",
    "        ## calculate the loss per batch\n",
    "        loss = loss_fn(y_pred,y)\n",
    "        train_loss+= loss\n",
    "        train_acc += accuracy_fn(y_true=y, \n",
    "                                 y_pred = y_pred.argmax(dim=1)) # argmax converting the raw logits --> predication labels\n",
    "        \n",
    "        ## zero-out the optimizer gradient\n",
    "        optimizer.zero_grad()\n",
    "        \n",
    "        ## backpropagate the loss\n",
    "        loss.backward()\n",
    "        \n",
    "        ## take optimisation step\n",
    "        optimizer.step()\n",
    "        \n",
    "        ## print out how many samples we have pass through the optimization step\n",
    "        if batch%400 == 0:\n",
    "            print(f\"No of samples passed through gradient optimization {batch*len(X)}/{len(dataloader.dataset)} sample...\")   \n",
    "\n",
    "        ## calculate the average loss per epoch \n",
    "    train_loss /= len(dataloader) # divide by no of bacthes \n",
    "    train_acc /= len(dataloader)\n",
    "    print(f\"Train Loss: {train_loss:.5f} | Train acc: {train_acc:.2f}%\")"
   ]
  },
  {
   "cell_type": "markdown",
   "id": "c3e2c7da",
   "metadata": {},
   "source": [
    "### Test_step():"
   ]
  },
  {
   "cell_type": "code",
   "execution_count": 35,
   "id": "3f1f8f36",
   "metadata": {},
   "outputs": [],
   "source": [
    "def test_step(model: torch.nn.Module, \n",
    "              dataloader: torch.utils.data.dataloader,\n",
    "              loss_fn: torch.nn.Module,\n",
    "              accuracy_fn = accuracy_fn,\n",
    "              device: torch.device= device):\n",
    "    \"\"\"Performs a testing loop step on model going over data_loader\"\"\"\n",
    "    test_loss, test_acc = 0, 0\n",
    "    \n",
    "    # set the mode on eval mode\n",
    "    model.eval()\n",
    "    \n",
    "    # turn on the inference mode\n",
    "    with torch.inference_mode():\n",
    "        # loop through dataloader\n",
    "        for X,y in dataloader:\n",
    "            # put the data on the target device\n",
    "            X,y = X.to(device), y.to(device)\n",
    "            \n",
    "            # make predications --> do the forward pass\n",
    "            test_pred = model(X)\n",
    "            \n",
    "            # calculate the loss/acc\n",
    "            test_loss += loss_fn(test_pred,y)\n",
    "            test_acc += accuracy_fn(y_true=y,\n",
    "                                    y_pred = test_pred.argmax(dim=1)) # argmax to convert the raw logits into predication labels\n",
    "        \n",
    "        # adjust the loss and accuracy\n",
    "        test_loss /= len(dataloader)\n",
    "        test_acc /= len(dataloader)\n",
    "        print(f\"Test Loss: {test_loss:.5f} | Test Acc: {test_acc:.5f}%\\n\")"
   ]
  },
  {
   "cell_type": "markdown",
   "id": "a325de4f",
   "metadata": {},
   "source": [
    "### Use train_step() and test_step() to write the final training and testing loop"
   ]
  },
  {
   "cell_type": "code",
   "execution_count": 36,
   "id": "02d250e9",
   "metadata": {},
   "outputs": [
    {
     "data": {
      "application/vnd.jupyter.widget-view+json": {
       "model_id": "3e51db8891e7480499396e156253b855",
       "version_major": 2,
       "version_minor": 0
      },
      "text/plain": [
       "  0%|          | 0/3 [00:00<?, ?it/s]"
      ]
     },
     "metadata": {},
     "output_type": "display_data"
    },
    {
     "name": "stdout",
     "output_type": "stream",
     "text": [
      "Epoch: 1\n",
      "-------\n",
      "No of samples passed through gradient optimization 0/60000 sample...\n",
      "No of samples passed through gradient optimization 12800/60000 sample...\n",
      "No of samples passed through gradient optimization 25600/60000 sample...\n",
      "No of samples passed through gradient optimization 38400/60000 sample...\n",
      "No of samples passed through gradient optimization 51200/60000 sample...\n",
      "Train Loss: 1.11456 | Train acc: 58.46%\n",
      "Test Loss: 0.96320 | Test Acc: 63.40855%\n",
      "\n",
      "Epoch: 2\n",
      "-------\n",
      "No of samples passed through gradient optimization 0/60000 sample...\n",
      "No of samples passed through gradient optimization 12800/60000 sample...\n",
      "No of samples passed through gradient optimization 25600/60000 sample...\n",
      "No of samples passed through gradient optimization 38400/60000 sample...\n",
      "No of samples passed through gradient optimization 51200/60000 sample...\n",
      "Train Loss: 0.90905 | Train acc: 64.87%\n",
      "Test Loss: 0.74544 | Test Acc: 72.61382%\n",
      "\n",
      "Epoch: 3\n",
      "-------\n",
      "No of samples passed through gradient optimization 0/60000 sample...\n",
      "No of samples passed through gradient optimization 12800/60000 sample...\n",
      "No of samples passed through gradient optimization 25600/60000 sample...\n",
      "No of samples passed through gradient optimization 38400/60000 sample...\n",
      "No of samples passed through gradient optimization 51200/60000 sample...\n",
      "Train Loss: 0.59506 | Train acc: 78.26%\n",
      "Test Loss: 0.49534 | Test Acc: 82.67772%\n",
      "\n",
      "Train time on cuda : 38.902 seconds\n"
     ]
    }
   ],
   "source": [
    "torch.manual_seed(42)\n",
    "\n",
    "# Measure time\n",
    "from timeit import default_timer as timer\n",
    "start_train_time_gpu = timer()\n",
    "\n",
    "# set the epochs\n",
    "epochs = 3\n",
    "\n",
    "# create a final training and testing loop using train_step() and test_step() function\n",
    "for epoch in tqdm(range(epochs)):\n",
    "    print(f\"Epoch: {epoch+1}\\n-------\")\n",
    "    \n",
    "    ## training step\n",
    "    train_step(model=modelv1, \n",
    "               dataloader=train_dataloader, \n",
    "               loss_fn=nn.CrossEntropyLoss(), \n",
    "               optimizer=optimizer, \n",
    "               accuracy_fn=accuracy_fn, \n",
    "               device=device)\n",
    "    \n",
    "    ## test step\n",
    "    test_step(model=modelv1, \n",
    "              dataloader=test_dataloader,\n",
    "              loss_fn=nn.CrossEntropyLoss(),\n",
    "              accuracy_fn=accuracy_fn,\n",
    "              device=device)\n",
    "end_train_time_gpu = timer()\n",
    "total_train_time_gpu = print_train_time(start=start_train_time_gpu,\n",
    "                                        end=end_train_time_gpu, \n",
    "                                        device=device)"
   ]
  },
  {
   "cell_type": "markdown",
   "id": "6cd9b199",
   "metadata": {},
   "source": [
    "### Why my GPU compute time is slower than CPU compute time\n",
    "**Reasons: Why is this ? **\n",
    "1. It could be that overhead for copying the data/model to and from the GPU outweights the compute benefits offered by the GPU.\n",
    "2. Hardware has a better cpu in terms of compute capability than the GPU\n",
    "\n",
    "**`Article to know more about GPU computing:`**: https://horace.io/brrr_intro.html"
   ]
  },
  {
   "cell_type": "code",
   "execution_count": 44,
   "id": "4ff210a3",
   "metadata": {},
   "outputs": [
    {
     "data": {
      "application/vnd.jupyter.widget-view+json": {
       "model_id": "48c95cb39fd64364b62dbeba023b2ae9",
       "version_major": 2,
       "version_minor": 0
      },
      "text/plain": [
       "  0%|          | 0/313 [00:00<?, ?it/s]"
      ]
     },
     "metadata": {},
     "output_type": "display_data"
    },
    {
     "data": {
      "text/plain": [
       "{'model_name': 'FashionMNISTV1',\n",
       " 'model_loss': 0.495336651802063,\n",
       " 'model_acc': 82.67771565495208}"
      ]
     },
     "execution_count": 44,
     "metadata": {},
     "output_type": "execute_result"
    }
   ],
   "source": [
    "modelv1_results = eval_model(model=modelv1,\n",
    "                             data_loader=test_dataloader,\n",
    "                             loss_fn=loss_fn,\n",
    "                             accuracy_fn=accuracy_fn)\n",
    "modelv1_results"
   ]
  },
  {
   "cell_type": "markdown",
   "id": "c4f66d1d",
   "metadata": {},
   "source": [
    "## Building a Convolutional Neural Network Model\n",
    "\n",
    "**`Good Resource`**: https://poloclub.github.io/cnn-explainer/"
   ]
  },
  {
   "cell_type": "code",
   "execution_count": 95,
   "id": "6522d850",
   "metadata": {},
   "outputs": [],
   "source": [
    "# create a cnn model\n",
    "\n",
    "class FashionMNISTV2(nn.Module):\n",
    "    \"\"\"Model architecture that replicates the TinyVGG model from CNN explainer website\"\"\"\n",
    "    def __init__(self, input_shape:int, output_shape:int, hidden_units:int):\n",
    "        super().__init__()\n",
    "        \n",
    "        # understood as feature extraction block 1\n",
    "        self.conv_block1 = nn.Sequential(\n",
    "            nn.Conv2d(in_channels=input_shape, out_channels=hidden_units,kernel_size=3,stride=1,padding=1),\n",
    "            nn.ReLU(),\n",
    "            nn.Conv2d(in_channels=hidden_units,out_channels=hidden_units, kernel_size=3,stride=1,padding=1),\n",
    "            nn.ReLU(),\n",
    "            nn.MaxPool2d(kernel_size=2)\n",
    "        )\n",
    "        \n",
    "        # understood as feature extraction block 2\n",
    "        self.conv_block2 = nn.Sequential(\n",
    "            nn.Conv2d(in_channels=hidden_units, out_channels=hidden_units, kernel_size=3, stride=1, padding=1),\n",
    "            nn.ReLU(),\n",
    "            nn.Conv2d(in_channels=hidden_units, out_channels=hidden_units, kernel_size=3, stride=1, padding=1),\n",
    "            nn.ReLU(),\n",
    "            nn.MaxPool2d(kernel_size=2)\n",
    "        )\n",
    "        \n",
    "        # understood as classifier layer\n",
    "        self.classfier = nn.Sequential(\n",
    "            nn.Flatten(),                         # to flatten out the 2x2 matrix from previous layer into vector\n",
    "            nn.Linear(in_features=hidden_units*7*7, # there is trick to calculate this\n",
    "                      out_features=output_shape), \n",
    "        )\n",
    "        \n",
    "    def forward(self,x:torch.Tensor)-> torch.Tensor:\n",
    "        x = self.conv_block1(x);\n",
    "#         print(x.shape)\n",
    "        x = self.conv_block2(x);\n",
    "#         print(x.shape)\n",
    "        x = self.classfier(x)\n",
    "#         print(x.shape)\n",
    "        return x"
   ]
  },
  {
   "cell_type": "code",
   "execution_count": 96,
   "id": "e0afd694",
   "metadata": {},
   "outputs": [
    {
     "data": {
      "text/plain": [
       "FashionMNISTV2(\n",
       "  (conv_block1): Sequential(\n",
       "    (0): Conv2d(1, 10, kernel_size=(3, 3), stride=(1, 1), padding=(1, 1))\n",
       "    (1): ReLU()\n",
       "    (2): Conv2d(10, 10, kernel_size=(3, 3), stride=(1, 1), padding=(1, 1))\n",
       "    (3): ReLU()\n",
       "    (4): MaxPool2d(kernel_size=2, stride=2, padding=0, dilation=1, ceil_mode=False)\n",
       "  )\n",
       "  (conv_block2): Sequential(\n",
       "    (0): Conv2d(10, 10, kernel_size=(3, 3), stride=(1, 1), padding=(1, 1))\n",
       "    (1): ReLU()\n",
       "    (2): Conv2d(10, 10, kernel_size=(3, 3), stride=(1, 1), padding=(1, 1))\n",
       "    (3): ReLU()\n",
       "    (4): MaxPool2d(kernel_size=2, stride=2, padding=0, dilation=1, ceil_mode=False)\n",
       "  )\n",
       "  (classfier): Sequential(\n",
       "    (0): Flatten(start_dim=1, end_dim=-1)\n",
       "    (1): Linear(in_features=490, out_features=10, bias=True)\n",
       "  )\n",
       ")"
      ]
     },
     "execution_count": 96,
     "metadata": {},
     "output_type": "execute_result"
    }
   ],
   "source": [
    "torch.manual_seed(42)\n",
    "\n",
    "modelv2 = FashionMNISTV2(input_shape=1,       # input color channels\n",
    "                         output_shape=10,     # output classes\n",
    "                         hidden_units=10).to(device)\n",
    "modelv2"
   ]
  },
  {
   "cell_type": "markdown",
   "id": "3b39e658",
   "metadata": {},
   "source": [
    "### understanding working of conv2d layer"
   ]
  },
  {
   "cell_type": "code",
   "execution_count": 97,
   "id": "cbedbd40",
   "metadata": {},
   "outputs": [
    {
     "name": "stdout",
     "output_type": "stream",
     "text": [
      "torch.Size([32, 1, 28, 28])\n",
      "torch.Size([1, 28, 28])\n"
     ]
    }
   ],
   "source": [
    "dummy_image_batch = torch.rand(size=(32,1,28,28))\n",
    "dummy_image = dummy_image_batch[0]\n",
    "\n",
    "print(dummy_image_batch.shape)\n",
    "print(dummy_image.shape)"
   ]
  },
  {
   "cell_type": "code",
   "execution_count": 98,
   "id": "04e53349",
   "metadata": {},
   "outputs": [
    {
     "data": {
      "text/plain": [
       "torch.Size([10, 26, 26])"
      ]
     },
     "execution_count": 98,
     "metadata": {},
     "output_type": "execute_result"
    }
   ],
   "source": [
    "conv_2d_dummy = nn.Conv2d(in_channels=1, out_channels=10, kernel_size=(3,3),stride=1, padding=0)\n",
    "# do the forward pass through conv2d\n",
    "result = conv_2d_dummy(dummy_image) # with unsqueeze output size is : torch.Size([1, 10, 62, 62])\n",
    "result.shape"
   ]
  },
  {
   "cell_type": "markdown",
   "id": "7653be67",
   "metadata": {},
   "source": [
    "### understanding of max2d layer"
   ]
  },
  {
   "cell_type": "code",
   "execution_count": 99,
   "id": "b128c6dd",
   "metadata": {},
   "outputs": [
    {
     "data": {
      "text/plain": [
       "torch.Size([1, 28, 28])"
      ]
     },
     "execution_count": 99,
     "metadata": {},
     "output_type": "execute_result"
    }
   ],
   "source": [
    "dummy_image.shape # printout shape of original shape"
   ]
  },
  {
   "cell_type": "code",
   "execution_count": 100,
   "id": "a156945b",
   "metadata": {},
   "outputs": [
    {
     "name": "stdout",
     "output_type": "stream",
     "text": [
      "torch.Size([1, 14, 14])\n"
     ]
    }
   ],
   "source": [
    "# create dummy_max2dpool layer\n",
    "max2d_dummy = nn.MaxPool2d(kernel_size=2)\n",
    "\n",
    "# do forward pass\n",
    "maxpool_output = max2d_dummy(dummy_image)\n",
    "print(maxpool_output.shape)"
   ]
  },
  {
   "cell_type": "markdown",
   "id": "60944ad5",
   "metadata": {},
   "source": [
    "### Here's the trick to understand how to calculate the output_features shape in the final classifier layer"
   ]
  },
  {
   "cell_type": "code",
   "execution_count": 101,
   "id": "11cc3711",
   "metadata": {},
   "outputs": [
    {
     "data": {
      "text/plain": [
       "'\\nLook at the error and the shapes that we have printed after each forward layer through conv block\\n---\\ntorch.Size([1, 10, 62, 62])\\n'"
      ]
     },
     "execution_count": 101,
     "metadata": {},
     "output_type": "execute_result"
    }
   ],
   "source": [
    "modelv2(dummy_image.unsqueeze(0).to(device))\n",
    "\n",
    "\"\"\"\n",
    "Look at the error and the shapes that we have printed after each forward layer through conv block\n",
    "---\n",
    "torch.Size([1, 10, 62, 62])\n",
    "\"\"\""
   ]
  },
  {
   "cell_type": "markdown",
   "id": "d85299ac",
   "metadata": {},
   "source": [
    "## Train the CNN Model"
   ]
  },
  {
   "cell_type": "code",
   "execution_count": 102,
   "id": "5dc50c67",
   "metadata": {},
   "outputs": [],
   "source": [
    "## setup the loss function and optimizer\n",
    "loss_fn = nn.CrossEntropyLoss()\n",
    "\n",
    "optimizer = torch.optim.SGD(params=modelv2.parameters(),\n",
    "                            lr = 0.01)"
   ]
  },
  {
   "cell_type": "code",
   "execution_count": 103,
   "id": "3f4882b6",
   "metadata": {},
   "outputs": [
    {
     "data": {
      "application/vnd.jupyter.widget-view+json": {
       "model_id": "63ef3234a4224710aaf9018417046338",
       "version_major": 2,
       "version_minor": 0
      },
      "text/plain": [
       "  0%|          | 0/3 [00:00<?, ?it/s]"
      ]
     },
     "metadata": {},
     "output_type": "display_data"
    },
    {
     "name": "stdout",
     "output_type": "stream",
     "text": [
      "Epoch: 0\n",
      "----\n",
      "No of samples passed through gradient optimization 0/60000 sample...\n",
      "No of samples passed through gradient optimization 12800/60000 sample...\n",
      "No of samples passed through gradient optimization 25600/60000 sample...\n",
      "No of samples passed through gradient optimization 38400/60000 sample...\n",
      "No of samples passed through gradient optimization 51200/60000 sample...\n",
      "Train Loss: 1.03787 | Train acc: 62.34%\n",
      "Test Loss: 0.62510 | Test Acc: 76.86701%\n",
      "\n",
      "Epoch: 1\n",
      "----\n",
      "No of samples passed through gradient optimization 0/60000 sample...\n",
      "No of samples passed through gradient optimization 12800/60000 sample...\n",
      "No of samples passed through gradient optimization 25600/60000 sample...\n",
      "No of samples passed through gradient optimization 38400/60000 sample...\n",
      "No of samples passed through gradient optimization 51200/60000 sample...\n",
      "Train Loss: 0.54918 | Train acc: 80.01%\n",
      "Test Loss: 0.49867 | Test Acc: 81.53954%\n",
      "\n",
      "Epoch: 2\n",
      "----\n",
      "No of samples passed through gradient optimization 0/60000 sample...\n",
      "No of samples passed through gradient optimization 12800/60000 sample...\n",
      "No of samples passed through gradient optimization 25600/60000 sample...\n",
      "No of samples passed through gradient optimization 38400/60000 sample...\n",
      "No of samples passed through gradient optimization 51200/60000 sample...\n",
      "Train Loss: 0.45581 | Train acc: 83.53%\n",
      "Test Loss: 0.44001 | Test Acc: 84.27516%\n",
      "\n",
      "Train time on cuda : 107.444 seconds\n"
     ]
    }
   ],
   "source": [
    "## setup the training and testing loop using train_step() and test_step() functions\n",
    "torch.manual_seed(42)\n",
    "torch.cuda.manual_seed(42)\n",
    "\n",
    "## Measure time\n",
    "from timeit import default_timer as timer\n",
    "start_train_time_modelv2 = timer()\n",
    "\n",
    "## Train and Test loop\n",
    "epochs = 3\n",
    "for epoch in tqdm(range(epochs)):\n",
    "    print(f\"Epoch: {epoch}\\n----\")\n",
    "    train_step(model=modelv2,\n",
    "               dataloader=train_dataloader,\n",
    "               loss_fn=loss_fn, \n",
    "               optimizer=optimizer,\n",
    "               accuracy_fn=accuracy_fn, \n",
    "               device=device)\n",
    "    \n",
    "    test_step(model=modelv2, \n",
    "              dataloader=test_dataloader, \n",
    "              loss_fn=loss_fn,\n",
    "              accuracy_fn=accuracy_fn,\n",
    "              device=device)\n",
    "end_train_time_modelv2 = timer()\n",
    "total_train_time_modelv2_gpu = print_train_time(start=start_train_time_modelv2, \n",
    "                                                end=end_train_time_modelv2, \n",
    "                                                device=device)"
   ]
  },
  {
   "cell_type": "code",
   "execution_count": 104,
   "id": "61bdafb3",
   "metadata": {},
   "outputs": [
    {
     "data": {
      "application/vnd.jupyter.widget-view+json": {
       "model_id": "a994728d68b94442892620ab0225d4c1",
       "version_major": 2,
       "version_minor": 0
      },
      "text/plain": [
       "  0%|          | 0/313 [00:00<?, ?it/s]"
      ]
     },
     "metadata": {},
     "output_type": "display_data"
    }
   ],
   "source": [
    "# modelv2 results\n",
    "modelv2_results = eval_model(model=modelv2,\n",
    "                             data_loader=test_dataloader,\n",
    "                             loss_fn=loss_fn,\n",
    "                             accuracy_fn=accuracy_fn,\n",
    "                             )"
   ]
  },
  {
   "cell_type": "code",
   "execution_count": 105,
   "id": "51a074e8",
   "metadata": {},
   "outputs": [
    {
     "data": {
      "text/plain": [
       "{'model_name': 'FashionMNISTV2',\n",
       " 'model_loss': 0.4400119483470917,\n",
       " 'model_acc': 84.27515974440895}"
      ]
     },
     "execution_count": 105,
     "metadata": {},
     "output_type": "execute_result"
    }
   ],
   "source": [
    "modelv2_results"
   ]
  },
  {
   "cell_type": "markdown",
   "id": "871657e8",
   "metadata": {},
   "source": [
    "## Compare the different models results"
   ]
  },
  {
   "cell_type": "code",
   "execution_count": 109,
   "id": "ce9991e3",
   "metadata": {},
   "outputs": [
    {
     "data": {
      "text/html": [
       "<div>\n",
       "<style scoped>\n",
       "    .dataframe tbody tr th:only-of-type {\n",
       "        vertical-align: middle;\n",
       "    }\n",
       "\n",
       "    .dataframe tbody tr th {\n",
       "        vertical-align: top;\n",
       "    }\n",
       "\n",
       "    .dataframe thead th {\n",
       "        text-align: right;\n",
       "    }\n",
       "</style>\n",
       "<table border=\"1\" class=\"dataframe\">\n",
       "  <thead>\n",
       "    <tr style=\"text-align: right;\">\n",
       "      <th></th>\n",
       "      <th>model_name</th>\n",
       "      <th>model_loss</th>\n",
       "      <th>model_acc</th>\n",
       "    </tr>\n",
       "  </thead>\n",
       "  <tbody>\n",
       "    <tr>\n",
       "      <th>0</th>\n",
       "      <td>FashionMNIST</td>\n",
       "      <td>0.478961</td>\n",
       "      <td>83.476438</td>\n",
       "    </tr>\n",
       "    <tr>\n",
       "      <th>1</th>\n",
       "      <td>FashionMNISTV1</td>\n",
       "      <td>0.495337</td>\n",
       "      <td>82.677716</td>\n",
       "    </tr>\n",
       "    <tr>\n",
       "      <th>2</th>\n",
       "      <td>FashionMNISTV2</td>\n",
       "      <td>0.440012</td>\n",
       "      <td>84.275160</td>\n",
       "    </tr>\n",
       "  </tbody>\n",
       "</table>\n",
       "</div>"
      ],
      "text/plain": [
       "       model_name  model_loss  model_acc\n",
       "0    FashionMNIST    0.478961  83.476438\n",
       "1  FashionMNISTV1    0.495337  82.677716\n",
       "2  FashionMNISTV2    0.440012  84.275160"
      ]
     },
     "execution_count": 109,
     "metadata": {},
     "output_type": "execute_result"
    }
   ],
   "source": [
    "import pandas as pd\n",
    "\n",
    "compare_model_results = pd.DataFrame([modelbase_results, modelv1_results, modelv2_results])\n",
    "compare_model_results"
   ]
  },
  {
   "cell_type": "code",
   "execution_count": 111,
   "id": "8c8050e2",
   "metadata": {},
   "outputs": [],
   "source": [
    "## add training time to dataframes\n",
    "compare_model_results[\"training_time\"] = [total_train_time_model_cpu, total_train_time_gpu, total_train_time_modelv2_gpu]"
   ]
  },
  {
   "cell_type": "code",
   "execution_count": 112,
   "id": "478f47e4",
   "metadata": {},
   "outputs": [
    {
     "data": {
      "text/html": [
       "<div>\n",
       "<style scoped>\n",
       "    .dataframe tbody tr th:only-of-type {\n",
       "        vertical-align: middle;\n",
       "    }\n",
       "\n",
       "    .dataframe tbody tr th {\n",
       "        vertical-align: top;\n",
       "    }\n",
       "\n",
       "    .dataframe thead th {\n",
       "        text-align: right;\n",
       "    }\n",
       "</style>\n",
       "<table border=\"1\" class=\"dataframe\">\n",
       "  <thead>\n",
       "    <tr style=\"text-align: right;\">\n",
       "      <th></th>\n",
       "      <th>model_name</th>\n",
       "      <th>model_loss</th>\n",
       "      <th>model_acc</th>\n",
       "      <th>training_time</th>\n",
       "    </tr>\n",
       "  </thead>\n",
       "  <tbody>\n",
       "    <tr>\n",
       "      <th>0</th>\n",
       "      <td>FashionMNIST</td>\n",
       "      <td>0.478961</td>\n",
       "      <td>83.476438</td>\n",
       "      <td>28.477369</td>\n",
       "    </tr>\n",
       "    <tr>\n",
       "      <th>1</th>\n",
       "      <td>FashionMNISTV1</td>\n",
       "      <td>0.495337</td>\n",
       "      <td>82.677716</td>\n",
       "      <td>38.901632</td>\n",
       "    </tr>\n",
       "    <tr>\n",
       "      <th>2</th>\n",
       "      <td>FashionMNISTV2</td>\n",
       "      <td>0.440012</td>\n",
       "      <td>84.275160</td>\n",
       "      <td>107.443841</td>\n",
       "    </tr>\n",
       "  </tbody>\n",
       "</table>\n",
       "</div>"
      ],
      "text/plain": [
       "       model_name  model_loss  model_acc  training_time\n",
       "0    FashionMNIST    0.478961  83.476438      28.477369\n",
       "1  FashionMNISTV1    0.495337  82.677716      38.901632\n",
       "2  FashionMNISTV2    0.440012  84.275160     107.443841"
      ]
     },
     "execution_count": 112,
     "metadata": {},
     "output_type": "execute_result"
    }
   ],
   "source": [
    "compare_model_results"
   ]
  },
  {
   "cell_type": "code",
   "execution_count": null,
   "id": "afbdbb11",
   "metadata": {},
   "outputs": [],
   "source": []
  }
 ],
 "metadata": {
  "kernelspec": {
   "display_name": "Python 3 (ipykernel)",
   "language": "python",
   "name": "python3"
  },
  "language_info": {
   "codemirror_mode": {
    "name": "ipython",
    "version": 3
   },
   "file_extension": ".py",
   "mimetype": "text/x-python",
   "name": "python",
   "nbconvert_exporter": "python",
   "pygments_lexer": "ipython3",
   "version": "3.10.6"
  }
 },
 "nbformat": 4,
 "nbformat_minor": 5
}
