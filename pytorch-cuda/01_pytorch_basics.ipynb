{
 "cells": [
  {
   "cell_type": "markdown",
   "id": "3ffbc05f",
   "metadata": {},
   "source": [
    "## Pytorch Fundamentals"
   ]
  },
  {
   "cell_type": "code",
   "execution_count": 1,
   "id": "25826e96",
   "metadata": {},
   "outputs": [
    {
     "name": "stdout",
     "output_type": "stream",
     "text": [
      "1.12.1\n"
     ]
    }
   ],
   "source": [
    "##import libraries\n",
    "import torch\n",
    "import pandas as pd\n",
    "import matplotlib.pyplot as plt\n",
    "print(torch.__version__)"
   ]
  },
  {
   "cell_type": "markdown",
   "id": "8e878aff",
   "metadata": {},
   "source": [
    "## Tensor Basics\n",
    "### Creating Tensor\n",
    "Documentation link : https://pytorch.org/docs/stable/tensors.html"
   ]
  },
  {
   "cell_type": "code",
   "execution_count": 2,
   "id": "2e1a5ca0",
   "metadata": {},
   "outputs": [
    {
     "data": {
      "text/plain": [
       "tensor(7)"
      ]
     },
     "execution_count": 2,
     "metadata": {},
     "output_type": "execute_result"
    }
   ],
   "source": [
    "#scalar\n",
    "scalar = torch.tensor(7)\n",
    "scalar"
   ]
  },
  {
   "cell_type": "code",
   "execution_count": 3,
   "id": "a18ab7c4",
   "metadata": {},
   "outputs": [
    {
     "data": {
      "text/plain": [
       "0"
      ]
     },
     "execution_count": 3,
     "metadata": {},
     "output_type": "execute_result"
    }
   ],
   "source": [
    "scalar.ndim # no dimensions"
   ]
  },
  {
   "cell_type": "code",
   "execution_count": 4,
   "id": "5fd4650d",
   "metadata": {},
   "outputs": [
    {
     "data": {
      "text/plain": [
       "7"
      ]
     },
     "execution_count": 4,
     "metadata": {},
     "output_type": "execute_result"
    }
   ],
   "source": [
    "#if need the value of the tensor use .item()\n",
    "scalar.item()"
   ]
  },
  {
   "cell_type": "code",
   "execution_count": 5,
   "id": "ac30a777",
   "metadata": {},
   "outputs": [
    {
     "name": "stdout",
     "output_type": "stream",
     "text": [
      "tensor([3, 3])\n",
      "1\n",
      "torch.Size([2])\n"
     ]
    }
   ],
   "source": [
    "#vector\n",
    "vector = torch.tensor([3,3])\n",
    "print(vector)\n",
    "print(vector.ndim)           #means pairs of square bracket\n",
    "print(vector.shape)          #no of elements in the square bracket"
   ]
  },
  {
   "cell_type": "code",
   "execution_count": 6,
   "id": "5b5897f7",
   "metadata": {},
   "outputs": [
    {
     "name": "stdout",
     "output_type": "stream",
     "text": [
      "tensor([[ 7,  8],\n",
      "        [10, 12]])\n",
      "2\n",
      "torch.Size([2, 2])\n"
     ]
    }
   ],
   "source": [
    "#MATRIX\n",
    "MATRIX = torch.tensor([[7,8],\n",
    "                       [10,12]])\n",
    "print(MATRIX)\n",
    "print(MATRIX.ndim)\n",
    "print(MATRIX.shape)"
   ]
  },
  {
   "cell_type": "code",
   "execution_count": 7,
   "id": "59fb8762",
   "metadata": {},
   "outputs": [
    {
     "name": "stdout",
     "output_type": "stream",
     "text": [
      "tensor([[[1, 2, 3],\n",
      "         [4, 5, 6],\n",
      "         [7, 8, 9]]])\n",
      "3\n",
      "torch.Size([1, 3, 3])\n"
     ]
    }
   ],
   "source": [
    "#TENSOR\n",
    "TENSOR = torch.tensor([[[1,2,3],\n",
    "                        [4,5,6],\n",
    "                        [7,8,9]]])\n",
    "\n",
    "print(TENSOR)\n",
    "print(TENSOR.ndim)\n",
    "print(TENSOR.shape)"
   ]
  },
  {
   "cell_type": "code",
   "execution_count": 8,
   "id": "582644cc",
   "metadata": {},
   "outputs": [
    {
     "data": {
      "text/plain": [
       "tensor([[1, 2, 3],\n",
       "        [4, 5, 6],\n",
       "        [7, 8, 9]])"
      ]
     },
     "execution_count": 8,
     "metadata": {},
     "output_type": "execute_result"
    }
   ],
   "source": [
    "TENSOR[0]"
   ]
  },
  {
   "cell_type": "code",
   "execution_count": 9,
   "id": "d20bdba2",
   "metadata": {},
   "outputs": [
    {
     "name": "stdout",
     "output_type": "stream",
     "text": [
      "tensor([[[1, 2, 3, 4],\n",
      "         [5, 6, 7, 8],\n",
      "         [6, 7, 8, 9]]])\n",
      "3\n",
      "torch.Size([1, 3, 4])\n"
     ]
    }
   ],
   "source": [
    "#more code to undestand the tensor\n",
    "#scalar and vector lower case\n",
    "#matrix and tensor upper case\n",
    "'''\n",
    "My understanding of shape: 0th dim: matrix (all elements)\n",
    "                         : 1st dim: no of rows\n",
    "                         : 2nd dim: no of elements in single row\n",
    "'''\n",
    "T = torch.tensor([[[1,2,3,4],\n",
    "                   [5,6,7,8],\n",
    "                   [6,7,8,9]]])\n",
    "\n",
    "print(T)\n",
    "print(T.ndim)\n",
    "print(T.shape)"
   ]
  },
  {
   "cell_type": "markdown",
   "id": "8b8a3821",
   "metadata": {},
   "source": [
    "## Random Tensors\n",
    "*   #### random tensors are important because the many neural network weights start with the random values, we will adjust those random values to better learn the model\n",
    "*   #### `start with random number --> look at data --> update random no --> look at data --> update`\n",
    "*   #### `documentation:` https://pytorch.org/docs/stable/generated/torch.rand.html"
   ]
  },
  {
   "cell_type": "code",
   "execution_count": 10,
   "id": "4cf55f34",
   "metadata": {},
   "outputs": [
    {
     "name": "stdout",
     "output_type": "stream",
     "text": [
      "tensor([[[0.6584, 0.6614, 0.9196, 0.1498],\n",
      "         [0.0581, 0.6132, 0.2614, 0.3817],\n",
      "         [0.0740, 0.0369, 0.0425, 0.7068]]])\n",
      "3\n",
      "torch.Size([1, 3, 4])\n"
     ]
    }
   ],
   "source": [
    "#creating random tensor\n",
    "random_tensor = torch.rand(1,3,4)\n",
    "print(random_tensor)\n",
    "print(random_tensor.ndim)\n",
    "print(random_tensor.shape)"
   ]
  },
  {
   "cell_type": "code",
   "execution_count": 11,
   "id": "a316ded0",
   "metadata": {},
   "outputs": [
    {
     "data": {
      "text/plain": [
       "(torch.Size([64, 64, 3]), 3)"
      ]
     },
     "execution_count": 11,
     "metadata": {},
     "output_type": "execute_result"
    }
   ],
   "source": [
    "#creating a random tensor with similar shape to an image tensor\n",
    "random_image_tensor = torch.rand(size= (64,64,3)) #height x width x channels\n",
    "random_image_tensor.shape, random_image_tensor.ndim"
   ]
  },
  {
   "cell_type": "code",
   "execution_count": 12,
   "id": "2c44797d",
   "metadata": {},
   "outputs": [
    {
     "data": {
      "text/plain": [
       "torch.Size([64, 64])"
      ]
     },
     "execution_count": 12,
     "metadata": {},
     "output_type": "execute_result"
    }
   ],
   "source": [
    "random_image_tensor[:,:,0].shape"
   ]
  },
  {
   "cell_type": "markdown",
   "id": "e7aa957c",
   "metadata": {},
   "source": [
    "## Zeros and Ones Tensors"
   ]
  },
  {
   "cell_type": "code",
   "execution_count": 13,
   "id": "6e433341",
   "metadata": {},
   "outputs": [
    {
     "data": {
      "text/plain": [
       "tensor([[0., 0., 0., 0.],\n",
       "        [0., 0., 0., 0.],\n",
       "        [0., 0., 0., 0.]])"
      ]
     },
     "execution_count": 13,
     "metadata": {},
     "output_type": "execute_result"
    }
   ],
   "source": [
    "zeros = torch.zeros((3,4))\n",
    "zeros"
   ]
  },
  {
   "cell_type": "code",
   "execution_count": 14,
   "id": "5da79270",
   "metadata": {},
   "outputs": [
    {
     "name": "stdout",
     "output_type": "stream",
     "text": [
      "tensor([[1., 1., 1., 1.],\n",
      "        [1., 1., 1., 1.],\n",
      "        [1., 1., 1., 1.]])\n",
      "torch.float32\n"
     ]
    }
   ],
   "source": [
    "ones = torch.ones((3,4))\n",
    "print(ones)\n",
    "print(ones.dtype)"
   ]
  },
  {
   "cell_type": "markdown",
   "id": "e188885f",
   "metadata": {},
   "source": [
    "## Range of Tensors and Tensor-like"
   ]
  },
  {
   "cell_type": "code",
   "execution_count": 15,
   "id": "812c892d",
   "metadata": {},
   "outputs": [],
   "source": [
    "# use torch.range\n",
    "U = torch.arange(0,11)"
   ]
  },
  {
   "cell_type": "code",
   "execution_count": 16,
   "id": "69c64945",
   "metadata": {},
   "outputs": [
    {
     "data": {
      "text/plain": [
       "tensor([0, 0, 0, 0, 0, 0, 0, 0, 0, 0, 0])"
      ]
     },
     "execution_count": 16,
     "metadata": {},
     "output_type": "execute_result"
    }
   ],
   "source": [
    "#tensor_like : if want to create other tensors who has same shape as above tensor\n",
    "ten_zeros = torch.zeros_like(U)\n",
    "ten_zeros"
   ]
  },
  {
   "cell_type": "markdown",
   "id": "ea354e5a",
   "metadata": {},
   "source": [
    "## Tensor Datatypes\n",
    "*  dtype\n",
    "*  device\n",
    "*  `documentation`: https://pytorch.org/docs/stable/tensors.html\n",
    "\n",
    "### Note: major 3 types of errors while working with Pytorch\n",
    "*  Tensor not right datatype : if cal is performed btw for eg: float16 and float 32\n",
    "*  Tensor not right shape\n",
    "*  Tensor not on right device : suppose one tensor is on cpu and one is on gpu"
   ]
  },
  {
   "cell_type": "code",
   "execution_count": 17,
   "id": "5b16aaf9",
   "metadata": {},
   "outputs": [
    {
     "name": "stdout",
     "output_type": "stream",
     "text": [
      "tensor([4., 5., 6.])\n",
      "torch.float32\n"
     ]
    }
   ],
   "source": [
    "#float32 tensor--> eventough dtype=None, still default value of dtype is float32: single precision floating point no\n",
    "float32_tensor = torch.tensor([4.0,5,6], dtype=None,\n",
    "                                         device=None,          # default is cpu, can also change into cuda\n",
    "                                         requires_grad=False)  # this comes in picture during parameters optimization\n",
    "\n",
    "print(float32_tensor)\n",
    "print(float32_tensor.dtype)"
   ]
  },
  {
   "cell_type": "markdown",
   "id": "4548669e",
   "metadata": {},
   "source": [
    "### convert the datatype"
   ]
  },
  {
   "cell_type": "code",
   "execution_count": 18,
   "id": "7c308b16",
   "metadata": {},
   "outputs": [
    {
     "data": {
      "text/plain": [
       "tensor([4., 5., 6.], dtype=torch.float16)"
      ]
     },
     "execution_count": 18,
     "metadata": {},
     "output_type": "execute_result"
    }
   ],
   "source": [
    "#convert the datatype from one form into another\n",
    "float_16_tensor = float32_tensor.type(torch.half)\n",
    "float_16_tensor"
   ]
  },
  {
   "cell_type": "code",
   "execution_count": 19,
   "id": "1585642a",
   "metadata": {},
   "outputs": [
    {
     "data": {
      "text/plain": [
       "tensor([16., 25., 36.])"
      ]
     },
     "execution_count": 19,
     "metadata": {},
     "output_type": "execute_result"
    }
   ],
   "source": [
    "## as per me it should throw an error ?\n",
    "## thing is some operation throw error\n",
    "float32_tensor*float_16_tensor"
   ]
  },
  {
   "cell_type": "code",
   "execution_count": 20,
   "id": "6f7c38c2",
   "metadata": {},
   "outputs": [
    {
     "name": "stdout",
     "output_type": "stream",
     "text": [
      "Datatype of tensor is: torch.float32\n",
      "Shape of the tensor is: torch.Size([3, 4])\n",
      "Device of which tensor is present: cpu\n"
     ]
    }
   ],
   "source": [
    "# find out the details of the some tensor, which will help to debug the code\n",
    "some_tensor = torch.rand(3,4)\n",
    "print(f\"Datatype of tensor is: {some_tensor.dtype}\")\n",
    "print(f\"Shape of the tensor is: {some_tensor.shape}\")\n",
    "print(f\"Device of which tensor is present: {some_tensor.device}\")"
   ]
  },
  {
   "cell_type": "markdown",
   "id": "116ec418",
   "metadata": {},
   "source": [
    "## Manipulating Tensors (tensor operations)\n",
    "\n",
    "Tensor operations include:\n",
    "* **Addition**\n",
    "* **Substraction**\n",
    "* Multiplication (element-wise)\n",
    "* Division\n",
    "* Matrix multiplication"
   ]
  },
  {
   "cell_type": "code",
   "execution_count": 21,
   "id": "1e5c8ec6",
   "metadata": {},
   "outputs": [
    {
     "data": {
      "text/plain": [
       "tensor([11, 12, 13])"
      ]
     },
     "execution_count": 21,
     "metadata": {},
     "output_type": "execute_result"
    }
   ],
   "source": [
    "#create a tensor\n",
    "tensor = torch.tensor([1,2,3])\n",
    "tensor + 10     # element wise addition"
   ]
  },
  {
   "cell_type": "code",
   "execution_count": 22,
   "id": "15f160d8",
   "metadata": {},
   "outputs": [
    {
     "data": {
      "text/plain": [
       "tensor([10, 20, 30])"
      ]
     },
     "execution_count": 22,
     "metadata": {},
     "output_type": "execute_result"
    }
   ],
   "source": [
    "#multiply the tensor by 10\n",
    "tensor = tensor * 10\n",
    "tensor"
   ]
  },
  {
   "cell_type": "code",
   "execution_count": 23,
   "id": "e2017078",
   "metadata": {},
   "outputs": [
    {
     "data": {
      "text/plain": [
       "tensor([100, 200, 300])"
      ]
     },
     "execution_count": 23,
     "metadata": {},
     "output_type": "execute_result"
    }
   ],
   "source": [
    "#Pytorch inbuilt functions\n",
    "torch.mul(tensor, 10)"
   ]
  },
  {
   "cell_type": "code",
   "execution_count": 24,
   "id": "276d3d1b",
   "metadata": {},
   "outputs": [
    {
     "name": "stdout",
     "output_type": "stream",
     "text": [
      "tensor([1, 4, 9])\n"
     ]
    }
   ],
   "source": [
    "#matrix multiplication - elementwise\n",
    "T1 = torch.tensor([1,2,3])\n",
    "element_wise = T1*T1\n",
    "print(element_wise)"
   ]
  },
  {
   "cell_type": "code",
   "execution_count": 25,
   "id": "c6df0792",
   "metadata": {},
   "outputs": [
    {
     "name": "stdout",
     "output_type": "stream",
     "text": [
      "tensor(14)\n"
     ]
    }
   ],
   "source": [
    "# matrix multiplication - dot\n",
    "# `inner dimensions must match`\n",
    "# @ can alos be used\n",
    "dot = torch.matmul(T1,T1)\n",
    "print(dot)"
   ]
  },
  {
   "cell_type": "code",
   "execution_count": 26,
   "id": "7993e570",
   "metadata": {},
   "outputs": [],
   "source": [
    "# use of transpose\n",
    "T1 = torch.tensor([[1,2],\n",
    "                   [3,4],\n",
    "                   [5,6]])\n",
    "\n",
    "T2 = torch.tensor([[7,8],\n",
    "                   [9,10],\n",
    "                   [11,12]])"
   ]
  },
  {
   "cell_type": "code",
   "execution_count": 27,
   "id": "080a7d4b",
   "metadata": {},
   "outputs": [
    {
     "name": "stdout",
     "output_type": "stream",
     "text": [
      "tensor([[ 23,  29,  35],\n",
      "        [ 53,  67,  81],\n",
      "        [ 83, 105, 127]])\n"
     ]
    }
   ],
   "source": [
    "dot = torch.matmul(T1, T2.T)\n",
    "print(dot)"
   ]
  },
  {
   "cell_type": "markdown",
   "id": "69a03648",
   "metadata": {},
   "source": [
    "## Tensor aggregation\n",
    "* min\n",
    "* max\n",
    "* mean\n",
    "* sum"
   ]
  },
  {
   "cell_type": "code",
   "execution_count": 28,
   "id": "52bb477a",
   "metadata": {},
   "outputs": [
    {
     "name": "stdout",
     "output_type": "stream",
     "text": [
      "torch.int64\n",
      "tensor(0)\n",
      "tensor(90)\n"
     ]
    },
    {
     "ename": "RuntimeError",
     "evalue": "mean(): could not infer output dtype. Input dtype must be either a floating point or complex dtype. Got: Long",
     "output_type": "error",
     "traceback": [
      "\u001b[1;31m---------------------------------------------------------------------------\u001b[0m",
      "\u001b[1;31mRuntimeError\u001b[0m                              Traceback (most recent call last)",
      "Input \u001b[1;32mIn [28]\u001b[0m, in \u001b[0;36m<cell line: 6>\u001b[1;34m()\u001b[0m\n\u001b[0;32m      4\u001b[0m \u001b[38;5;28mprint\u001b[39m(torch\u001b[38;5;241m.\u001b[39mmin(t))\n\u001b[0;32m      5\u001b[0m \u001b[38;5;28mprint\u001b[39m(torch\u001b[38;5;241m.\u001b[39mmax(t))\n\u001b[1;32m----> 6\u001b[0m \u001b[38;5;28mprint\u001b[39m(\u001b[43mtorch\u001b[49m\u001b[38;5;241;43m.\u001b[39;49m\u001b[43mmean\u001b[49m\u001b[43m(\u001b[49m\u001b[43mt\u001b[49m\u001b[43m)\u001b[49m)            \u001b[38;5;66;03m#why error pop up ??\u001b[39;00m\n\u001b[0;32m      7\u001b[0m \u001b[38;5;124;03m'''\u001b[39;00m\n\u001b[0;32m      8\u001b[0m \u001b[38;5;124;03manswer for this is input tensor data type is long (int64), but\u001b[39;00m\n\u001b[0;32m      9\u001b[0m \u001b[38;5;124;03mtorch.mean does not operate on long datatype\u001b[39;00m\n\u001b[0;32m     10\u001b[0m \u001b[38;5;124;03m'''\u001b[39;00m\n",
      "\u001b[1;31mRuntimeError\u001b[0m: mean(): could not infer output dtype. Input dtype must be either a floating point or complex dtype. Got: Long"
     ]
    }
   ],
   "source": [
    "# create a tensor\n",
    "t = torch.arange(0,100,10)\n",
    "print(t.dtype)\n",
    "print(torch.min(t))\n",
    "print(torch.max(t))\n",
    "print(torch.mean(t))            #why error pop up ??\n",
    "'''\n",
    "answer for this is input tensor data type is long (int64), but\n",
    "torch.mean does not operate on long datatype\n",
    "'''"
   ]
  },
  {
   "cell_type": "code",
   "execution_count": 29,
   "id": "021a28d9",
   "metadata": {},
   "outputs": [
    {
     "data": {
      "text/plain": [
       "tensor(45.)"
      ]
     },
     "execution_count": 29,
     "metadata": {},
     "output_type": "execute_result"
    }
   ],
   "source": [
    "# solution\n",
    "mean_value = torch.mean(t.type(torch.float32))\n",
    "mean_value"
   ]
  },
  {
   "cell_type": "markdown",
   "id": "ce779baa",
   "metadata": {},
   "source": [
    "## Positonal min and max\n",
    "* **argmin()** - returns the index of min value in the tensor\n",
    "* **argmax()** - returns the index of max value in the tensor"
   ]
  },
  {
   "cell_type": "code",
   "execution_count": 30,
   "id": "b77e486a",
   "metadata": {},
   "outputs": [
    {
     "data": {
      "text/plain": [
       "tensor([ 0, 10, 20, 30, 40, 50, 60, 70, 80, 90])"
      ]
     },
     "execution_count": 30,
     "metadata": {},
     "output_type": "execute_result"
    }
   ],
   "source": [
    "t"
   ]
  },
  {
   "cell_type": "code",
   "execution_count": 31,
   "id": "11dfe825",
   "metadata": {},
   "outputs": [
    {
     "data": {
      "text/plain": [
       "tensor(0)"
      ]
     },
     "execution_count": 31,
     "metadata": {},
     "output_type": "execute_result"
    }
   ],
   "source": [
    "# min value index --> to get value use .item()\n",
    "t.argmin()"
   ]
  },
  {
   "cell_type": "code",
   "execution_count": 32,
   "id": "02cb249a",
   "metadata": {},
   "outputs": [
    {
     "data": {
      "text/plain": [
       "tensor(9)"
      ]
     },
     "execution_count": 32,
     "metadata": {},
     "output_type": "execute_result"
    }
   ],
   "source": [
    "# max value index --> to get value use.item()\n",
    "t.argmax()"
   ]
  },
  {
   "cell_type": "markdown",
   "id": "0522b6fe",
   "metadata": {},
   "source": [
    "## Reshaping, stacking, squeezing, unsqueezing tensors\n",
    "* **reshaping** : reshape an input tensor to desired shape\n",
    "* **view** : return a view of an input tensor of certain shape but keep the same memory as the original tensor\n",
    "* **stacking** : combine multiple tensors on top of each other (vstack) or side by side (hstack)\n",
    "* **squeeze** : remove all `1` dimensions from a tensor\n",
    "* **unsqueeze** : add a `1` dimensions to a target tensor at target dimension position\n",
    "* **permute** : return a view of the input with dimensions permuted (swapped) in a certain way"
   ]
  },
  {
   "cell_type": "code",
   "execution_count": 33,
   "id": "89ddadde",
   "metadata": {},
   "outputs": [
    {
     "data": {
      "text/plain": [
       "(tensor([1., 2., 3., 4., 5., 6., 7., 8., 9.]), torch.Size([9]))"
      ]
     },
     "execution_count": 33,
     "metadata": {},
     "output_type": "execute_result"
    }
   ],
   "source": [
    "t = torch.arange(1., 10.)\n",
    "t, t.shape"
   ]
  },
  {
   "cell_type": "markdown",
   "id": "f071f312",
   "metadata": {},
   "source": [
    "### Reshape"
   ]
  },
  {
   "cell_type": "code",
   "execution_count": 34,
   "id": "ef15eeab",
   "metadata": {},
   "outputs": [
    {
     "name": "stdout",
     "output_type": "stream",
     "text": [
      "tensor([[1., 2., 3.],\n",
      "        [4., 5., 6.],\n",
      "        [7., 8., 9.]])\n"
     ]
    }
   ],
   "source": [
    "# reshape the tensor\n",
    "t_reshape = t.reshape(3,3)\n",
    "print(t_reshape)"
   ]
  },
  {
   "cell_type": "markdown",
   "id": "ba84200e",
   "metadata": {},
   "source": [
    "## View \n",
    "**in this tensors share the same memory, means if you change t_view, t also changes**"
   ]
  },
  {
   "cell_type": "code",
   "execution_count": 35,
   "id": "3a599275",
   "metadata": {},
   "outputs": [
    {
     "name": "stdout",
     "output_type": "stream",
     "text": [
      "tensor([[1., 2., 3.],\n",
      "        [4., 5., 6.],\n",
      "        [7., 8., 9.]])\n"
     ]
    }
   ],
   "source": [
    "# change the view\n",
    "t_view = t.view(3,3)\n",
    "print(t_view)"
   ]
  },
  {
   "cell_type": "code",
   "execution_count": 36,
   "id": "f5f27cfa",
   "metadata": {},
   "outputs": [],
   "source": [
    "t_view[1,1] = 100"
   ]
  },
  {
   "cell_type": "code",
   "execution_count": 37,
   "id": "b302d80c",
   "metadata": {},
   "outputs": [
    {
     "data": {
      "text/plain": [
       "tensor([[  1.,   2.,   3.],\n",
       "        [  4., 100.,   6.],\n",
       "        [  7.,   8.,   9.]])"
      ]
     },
     "execution_count": 37,
     "metadata": {},
     "output_type": "execute_result"
    }
   ],
   "source": [
    "t_view"
   ]
  },
  {
   "cell_type": "code",
   "execution_count": 38,
   "id": "3083b249",
   "metadata": {},
   "outputs": [
    {
     "data": {
      "text/plain": [
       "tensor([  1.,   2.,   3.,   4., 100.,   6.,   7.,   8.,   9.])"
      ]
     },
     "execution_count": 38,
     "metadata": {},
     "output_type": "execute_result"
    }
   ],
   "source": [
    "t"
   ]
  },
  {
   "cell_type": "markdown",
   "id": "79c05c72",
   "metadata": {},
   "source": [
    "## Stack "
   ]
  },
  {
   "cell_type": "code",
   "execution_count": 39,
   "id": "3a6fdced",
   "metadata": {},
   "outputs": [
    {
     "name": "stdout",
     "output_type": "stream",
     "text": [
      "torch.Size([4, 9])\n"
     ]
    }
   ],
   "source": [
    "# stack tensors on top of each other\n",
    "t_stack = torch.stack([t,t,t,t])     # default dim of stack is 0: stack row wise\n",
    "print(t_stack.shape)"
   ]
  },
  {
   "cell_type": "code",
   "execution_count": 40,
   "id": "d72e489a",
   "metadata": {},
   "outputs": [
    {
     "name": "stdout",
     "output_type": "stream",
     "text": [
      "torch.Size([9, 4])\n"
     ]
    }
   ],
   "source": [
    "th_stack = torch.stack([t,t,t,t], dim=1) # stacking column wise\n",
    "print(th_stack.shape)"
   ]
  },
  {
   "cell_type": "markdown",
   "id": "7e4abdfe",
   "metadata": {},
   "source": [
    "## Squeeze\n",
    "* **remove all the `1` dimensions from the input tensors**"
   ]
  },
  {
   "cell_type": "code",
   "execution_count": 41,
   "id": "c80c5bd3",
   "metadata": {},
   "outputs": [
    {
     "name": "stdout",
     "output_type": "stream",
     "text": [
      "torch.Size([1, 1, 1, 1, 3, 3])\n"
     ]
    }
   ],
   "source": [
    "t_reshape = t.reshape((1,1,1,1,3,3))\n",
    "print(t_reshape.shape)"
   ]
  },
  {
   "cell_type": "code",
   "execution_count": 42,
   "id": "0e5ae619",
   "metadata": {},
   "outputs": [
    {
     "data": {
      "text/plain": [
       "torch.Size([3, 3])"
      ]
     },
     "execution_count": 42,
     "metadata": {},
     "output_type": "execute_result"
    }
   ],
   "source": [
    "t_squeeze = t_reshape.squeeze()\n",
    "t_squeeze.shape"
   ]
  },
  {
   "cell_type": "markdown",
   "id": "a7b310e6",
   "metadata": {},
   "source": [
    "## Unsqueeze"
   ]
  },
  {
   "cell_type": "code",
   "execution_count": null,
   "id": "8921a2dc",
   "metadata": {},
   "outputs": [],
   "source": [
    "t.shape"
   ]
  },
  {
   "cell_type": "code",
   "execution_count": null,
   "id": "14d0d8f4",
   "metadata": {},
   "outputs": [],
   "source": [
    "t_unsqueeze = t.unsqueeze(dim=1)\n",
    "print(t_unsqueeze.shape)\n",
    "t_unsqueeze.unsqueeze_(dim=2)         # inplace update _\n",
    "print(t_unsqueeze.shape)"
   ]
  },
  {
   "cell_type": "markdown",
   "id": "c1f68c94",
   "metadata": {},
   "source": [
    "## Permute\n",
    "**uses the view, hence change done in permuted tensor will reflect in the original tensor as well**"
   ]
  },
  {
   "cell_type": "code",
   "execution_count": null,
   "id": "79907e30",
   "metadata": {},
   "outputs": [],
   "source": [
    "# torch.permute - rearranges the dimensions of a target tensor in a specified order\n",
    "\n",
    "x = torch.rand((64,64,3)) # height, width, channels\n",
    "x.shape"
   ]
  },
  {
   "cell_type": "code",
   "execution_count": null,
   "id": "cf583f2e",
   "metadata": {},
   "outputs": [],
   "source": [
    "# permute the original tensors dimensions\n",
    "x_permute = x.permute(2,0,1)\n",
    "x_permute.shape"
   ]
  },
  {
   "cell_type": "code",
   "execution_count": null,
   "id": "6ce7b8c6",
   "metadata": {},
   "outputs": [],
   "source": [
    "x_permute[0,0,0] = 100000"
   ]
  },
  {
   "cell_type": "markdown",
   "id": "1555910d",
   "metadata": {},
   "source": [
    "## Indexing (selecting data from tensors)"
   ]
  },
  {
   "cell_type": "code",
   "execution_count": null,
   "id": "9126e2c5",
   "metadata": {},
   "outputs": [],
   "source": [
    "t = torch.arange(1,10).reshape(1,3,3)\n",
    "t.shape"
   ]
  },
  {
   "cell_type": "code",
   "execution_count": null,
   "id": "cb152e84",
   "metadata": {},
   "outputs": [],
   "source": [
    "t[0] # index on 0th dimension"
   ]
  },
  {
   "cell_type": "code",
   "execution_count": null,
   "id": "4b9e8eff",
   "metadata": {},
   "outputs": [],
   "source": [
    "t[0][0] # index on the 1st dim"
   ]
  },
  {
   "cell_type": "code",
   "execution_count": null,
   "id": "f7f90cd3",
   "metadata": {},
   "outputs": [],
   "source": [
    "t[0][0][0] # index on the 2nd dim"
   ]
  },
  {
   "cell_type": "code",
   "execution_count": null,
   "id": "0fdd3f1f",
   "metadata": {},
   "outputs": [],
   "source": [
    "t[:,:,1]  # gives column as output"
   ]
  },
  {
   "cell_type": "markdown",
   "id": "3fc2ceff",
   "metadata": {},
   "source": [
    "## Pytorch tensors and Numpy\n",
    "*  Data in NumPy, want in PyTorch tensor --> `torch.from_numpy(ndarray)`\n",
    "* PyTorch tensor --> Numpy --> `torch.Tensor.numpy()`"
   ]
  },
  {
   "cell_type": "code",
   "execution_count": null,
   "id": "54662dda",
   "metadata": {},
   "outputs": [],
   "source": [
    "# numPy to Tensor\n",
    "import numpy as np\n",
    "\n",
    "a = np.arange(1.,8)           # default dtype = float64\n",
    "tensor = torch.from_numpy(a)  # default dtype = torch.float32\n",
    "print(a)\n",
    "print(tensor)"
   ]
  },
  {
   "cell_type": "code",
   "execution_count": null,
   "id": "4fcf9f97",
   "metadata": {},
   "outputs": [],
   "source": [
    "# how to change default dtype of tensor that it got from numpy\n",
    "tensor_32 = torch.from_numpy(a).type(torch.float32)\n",
    "tensor_32.dtype"
   ]
  },
  {
   "cell_type": "markdown",
   "id": "2bcff05c",
   "metadata": {},
   "source": [
    "### What happen if we change the value of the array ?\n",
    "* `nothing happens`"
   ]
  },
  {
   "cell_type": "code",
   "execution_count": null,
   "id": "1450ebbc",
   "metadata": {},
   "outputs": [],
   "source": [
    "a = a + 1\n",
    "a"
   ]
  },
  {
   "cell_type": "code",
   "execution_count": null,
   "id": "09f0d418",
   "metadata": {},
   "outputs": [],
   "source": [
    "tensor_32"
   ]
  },
  {
   "cell_type": "markdown",
   "id": "3eadf723",
   "metadata": {},
   "source": [
    "## Tensor to Numpy"
   ]
  },
  {
   "cell_type": "code",
   "execution_count": null,
   "id": "0a19dd0e",
   "metadata": {},
   "outputs": [],
   "source": [
    "tensor = torch.ones(7)             #default = torch.float32\n",
    "numpy_from_tensor = tensor.numpy()\n",
    "print(numpy_from_tensor.dtype)"
   ]
  },
  {
   "cell_type": "markdown",
   "id": "d192f7ba",
   "metadata": {},
   "source": [
    "### what happen if we change the Tensor ?\n",
    "* `nothing change`"
   ]
  },
  {
   "cell_type": "code",
   "execution_count": null,
   "id": "04e790f1",
   "metadata": {},
   "outputs": [],
   "source": [
    "tensor  = tensor + 10\n",
    "tensor"
   ]
  },
  {
   "cell_type": "code",
   "execution_count": null,
   "id": "e8b435fb",
   "metadata": {},
   "outputs": [],
   "source": [
    "numpy_from_tensor"
   ]
  },
  {
   "cell_type": "markdown",
   "id": "c7e99ed4",
   "metadata": {},
   "source": [
    "## Reproducability (trying to take random out of random)\n",
    "\n",
    "* To reduce the randomness in neural networks and pytorch comes the concept of a **random seed**\n",
    "* `documentation`: https://pytorch.org/docs/stable/notes/randomness.html"
   ]
  },
  {
   "cell_type": "code",
   "execution_count": null,
   "id": "65f5c867",
   "metadata": {},
   "outputs": [],
   "source": [
    "# create two random tensors\n",
    "T1 = torch.rand(3,4)\n",
    "T2 = torch.rand(3,4)\n",
    "\n",
    "print(T1 == T2)   # means both tensors are completely different"
   ]
  },
  {
   "cell_type": "code",
   "execution_count": null,
   "id": "c5d013b2",
   "metadata": {},
   "outputs": [],
   "source": [
    "# random tensor but reproducable\n",
    "# set the random seed  --- > in case of pytorch torch.manual_seed only work for the single tensor\n",
    "torch.manual_seed(42)\n",
    "T3 = torch.rand(3,4)\n",
    "\n",
    "torch.manual_seed(42)\n",
    "T4 = torch.rand(3,4)\n",
    "\n",
    "print(T3)\n",
    "print(T4)\n",
    "print(T3 == T4)"
   ]
  },
  {
   "cell_type": "markdown",
   "id": "b76ead3a",
   "metadata": {},
   "source": [
    "## Running Tensors and PyTorch objects on the GPUs (faster computations)\n",
    "* `best-practices`: https://pytorch.org/docs/stable/notes/cuda.html#best-practices\n",
    "*  This documentation is good when writing the python script to use gpu with argparser"
   ]
  },
  {
   "cell_type": "code",
   "execution_count": null,
   "id": "5c54537e",
   "metadata": {},
   "outputs": [],
   "source": [
    "# to check if gpu is available\n",
    "torch.cuda.is_available()"
   ]
  },
  {
   "cell_type": "code",
   "execution_count": null,
   "id": "b4f60841",
   "metadata": {},
   "outputs": [],
   "source": [
    "!nvidia-smi"
   ]
  },
  {
   "cell_type": "code",
   "execution_count": null,
   "id": "9ef4e6d7",
   "metadata": {},
   "outputs": [],
   "source": [
    "# setup device agnostic code \n",
    "device = \"cuda\" if torch.cuda.is_available() else \"cpu\"\n",
    "device"
   ]
  },
  {
   "cell_type": "code",
   "execution_count": null,
   "id": "147d03ed",
   "metadata": {},
   "outputs": [],
   "source": [
    "# count the no of GPUs\n",
    "torch.cuda.device_count()"
   ]
  },
  {
   "cell_type": "markdown",
   "id": "42e2982d",
   "metadata": {},
   "source": [
    "###  Put tensors and models on the GPU"
   ]
  },
  {
   "cell_type": "code",
   "execution_count": null,
   "id": "498ba62e",
   "metadata": {},
   "outputs": [],
   "source": [
    "# create a tensor (default device = cpu)\n",
    "T = torch.Tensor([1.0,2,3])\n",
    "print(T)\n",
    "print(T.device)"
   ]
  },
  {
   "cell_type": "code",
   "execution_count": null,
   "id": "e7e67aa2",
   "metadata": {},
   "outputs": [],
   "source": [
    "# move tensor to gpu (if available)\n",
    "tensor_gpu = tensor.to(device)\n",
    "tensor_gpu"
   ]
  },
  {
   "cell_type": "markdown",
   "id": "0437cda6",
   "metadata": {},
   "source": [
    "## Moving back to the CPU\n",
    "*   **If tensor is on GPU, can't transform it to NumPy**"
   ]
  },
  {
   "cell_type": "code",
   "execution_count": null,
   "id": "794da6b0",
   "metadata": {},
   "outputs": [],
   "source": [
    "# converting tensor_gpu to numpy --> will give error\n",
    "tensor_gpu.numpy()"
   ]
  },
  {
   "cell_type": "code",
   "execution_count": null,
   "id": "d2f1a26a",
   "metadata": {},
   "outputs": [],
   "source": [
    "# fix to this is \n",
    "tensor_back_on_cpu = tensor_gpu.cpu().numpy()\n",
    "tensor_back_on_cpu"
   ]
  }
 ],
 "metadata": {
  "kernelspec": {
   "display_name": "Python 3 (ipykernel)",
   "language": "python",
   "name": "python3"
  },
  "language_info": {
   "codemirror_mode": {
    "name": "ipython",
    "version": 3
   },
   "file_extension": ".py",
   "mimetype": "text/x-python",
   "name": "python",
   "nbconvert_exporter": "python",
   "pygments_lexer": "ipython3",
   "version": "3.10.6"
  }
 },
 "nbformat": 4,
 "nbformat_minor": 5
}
