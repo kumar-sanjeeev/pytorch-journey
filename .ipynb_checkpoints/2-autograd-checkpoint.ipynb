{
 "cells": [
  {
   "cell_type": "code",
   "execution_count": 30,
   "id": "9051ef16",
   "metadata": {},
   "outputs": [],
   "source": [
    "import torch\n",
    "import numpy as np"
   ]
  },
  {
   "cell_type": "code",
   "execution_count": 31,
   "id": "722e8c67",
   "metadata": {},
   "outputs": [
    {
     "name": "stdout",
     "output_type": "stream",
     "text": [
      "tensor([0.0077, 0.4261, 0.5286], requires_grad=True)\n"
     ]
    }
   ],
   "source": [
    "# requires_grad tell the torch that now it need to create a computational graph to do the back propagation\n",
    "# to optimize the value of the variable\n",
    "w = torch.rand(3, requires_grad=True)\n",
    "print(w)"
   ]
  },
  {
   "cell_type": "code",
   "execution_count": 32,
   "id": "2d0c7d0c",
   "metadata": {},
   "outputs": [
    {
     "name": "stdout",
     "output_type": "stream",
     "text": [
      "tensor([2.0077, 2.4261, 2.5286], grad_fn=<AddBackward0>)\n"
     ]
    }
   ],
   "source": [
    "# add something to w\n",
    "# first do the forward pass\n",
    "# y has the attribute grad_fn,which points to gradient function 'AddBackward0'\n",
    "y = w+2\n",
    "print(y)"
   ]
  },
  {
   "cell_type": "code",
   "execution_count": 33,
   "id": "d6ccac10",
   "metadata": {},
   "outputs": [
    {
     "name": "stdout",
     "output_type": "stream",
     "text": [
      "tensor([ 8.0619, 11.7717, 12.7876], grad_fn=<MulBackward0>)\n"
     ]
    }
   ],
   "source": [
    "#diffent operation on the tensor\n",
    "# see the difference in the grad_fn\n",
    "z = y*y*2\n",
    "print(z)"
   ]
  },
  {
   "cell_type": "code",
   "execution_count": 34,
   "id": "4282b3d6",
   "metadata": {},
   "outputs": [
    {
     "name": "stdout",
     "output_type": "stream",
     "text": [
      "tensor([0.8031, 9.7043, 0.0101])\n"
     ]
    }
   ],
   "source": [
    "#now when want to calculate the gradient call the .backward() function\n",
    "#.backward() is the vector jacobian product, hence that's why in the below example we have to pass the vector\n",
    "\n",
    "#create a vector, to do the vector-jacobian multiplication (if z is not a scalar value)\n",
    "\n",
    "v = torch.tensor([0.1, 1.0, 0.001], dtype=torch.float32)\n",
    "z.backward(v)        # will cal dz/dw\n",
    "print(w.grad)        # where gradients are stored"
   ]
  },
  {
   "cell_type": "markdown",
   "id": "707d6679",
   "metadata": {},
   "source": [
    "## Stop tracking gradient history\n",
    "* how to prevent pytorch for tracking gradient history\n",
    "* option 1 :w.requires_grad_(False)\n",
    "* option2: w.detach()\n",
    "* wrap in with statement i.e with torch.no_grad():"
   ]
  },
  {
   "cell_type": "code",
   "execution_count": 28,
   "id": "6dc1884b",
   "metadata": {},
   "outputs": [],
   "source": [
    "#option1\n",
    "print(w)\n",
    "w.requires_grad_(False)\n",
    "print(w)"
   ]
  },
  {
   "cell_type": "code",
   "execution_count": 29,
   "id": "2dc99e9b",
   "metadata": {},
   "outputs": [
    {
     "name": "stdout",
     "output_type": "stream",
     "text": [
      "tensor([0.8518, 0.1273, 0.6178], requires_grad=True)\n",
      "tensor([0.8518, 0.1273, 0.6178])\n"
     ]
    }
   ],
   "source": [
    "#option2- create a new tensor\n",
    "y = w.detach()\n",
    "print(w)\n",
    "print(y)\n"
   ]
  },
  {
   "cell_type": "code",
   "execution_count": 36,
   "id": "7e5d059d",
   "metadata": {},
   "outputs": [
    {
     "name": "stdout",
     "output_type": "stream",
     "text": [
      "tensor([2.0077, 2.4261, 2.5286])\n"
     ]
    }
   ],
   "source": [
    "#option3- wrap in with statement:\n",
    "with torch.no_grad():\n",
    "    z = w+ 2\n",
    "    print(z)"
   ]
  },
  {
   "cell_type": "code",
   "execution_count": null,
   "id": "3b2fa0f6",
   "metadata": {},
   "outputs": [],
   "source": []
  }
 ],
 "metadata": {
  "kernelspec": {
   "display_name": "Python 3 (ipykernel)",
   "language": "python",
   "name": "python3"
  },
  "language_info": {
   "codemirror_mode": {
    "name": "ipython",
    "version": 3
   },
   "file_extension": ".py",
   "mimetype": "text/x-python",
   "name": "python",
   "nbconvert_exporter": "python",
   "pygments_lexer": "ipython3",
   "version": "3.8.10"
  }
 },
 "nbformat": 4,
 "nbformat_minor": 5
}
